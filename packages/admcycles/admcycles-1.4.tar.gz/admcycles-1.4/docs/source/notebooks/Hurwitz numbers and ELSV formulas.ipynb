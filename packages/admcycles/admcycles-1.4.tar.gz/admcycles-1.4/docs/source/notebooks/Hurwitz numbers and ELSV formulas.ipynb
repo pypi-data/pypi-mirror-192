{
 "cells": [
  {
   "cell_type": "markdown",
   "metadata": {},
   "source": [
    "# Computing Hurwitz numbers using the ELSV formula"
   ]
  },
  {
   "cell_type": "markdown",
   "metadata": {},
   "source": [
    "We will compute the following Hurwitz numbers $h_{1;(4)} = 160 \\,,  h_{2;(3,1)} = 45927$ using using the [ELSV formula](https://en.wikipedia.org/wiki/ELSV_formula)."
   ]
  },
  {
   "cell_type": "code",
   "execution_count": 1,
   "metadata": {},
   "outputs": [],
   "source": [
    "from admcycles import *\n",
    "from admcycles.stratarecursion import classes"
   ]
  },
  {
   "cell_type": "markdown",
   "metadata": {},
   "source": [
    "We define a function which picks the chern class of cohomolical degree $d \\in [0\\, \\ldots,g]$ out of the total chern class $C(\\mathbb{E}^{\\star})$"
   ]
  },
  {
   "cell_type": "code",
   "execution_count": 2,
   "metadata": {},
   "outputs": [],
   "source": [
    "#d: cohomological degree \n",
    "#g: genus\n",
    "#n: number of ramification points\n",
    "def chern_class_d(d,g,n):\n",
    "    if d<0 or d>g:\n",
    "        raise ValueError('Cohomological degree d of Lambda is in [0,g]')\n",
    "    else:\n",
    "        return (-1)**d*lambdaclass(d,g,n)"
   ]
  },
  {
   "cell_type": "code",
   "execution_count": 3,
   "metadata": {},
   "outputs": [
    {
     "data": {
      "text/plain": [
       "0"
      ]
     },
     "execution_count": 3,
     "metadata": {},
     "output_type": "execute_result"
    }
   ],
   "source": [
    "chern_class_d(2,3,1).evaluate()"
   ]
  },
  {
   "cell_type": "markdown",
   "metadata": {},
   "source": [
    "We define a function which picks the term of cohomological degree $d \\in [0 \\,, \\ldots, 3g-3+n]$ where  $3g-3+n =\\dim (\\overline{\\mathcal{M}}_{g,n})$ out of \n",
    "$$\n",
    "\\frac{1}{1-k_i \\psi_i} = 1 + k_i \\psi_i + k^2_i \\psi_i^2 + \\ldots + k^{3g-3+n}_i \\psi^{3g-3+n}_i \n",
    "$$"
   ]
  },
  {
   "cell_type": "code",
   "execution_count": 4,
   "metadata": {},
   "outputs": [],
   "source": [
    "# k: \n",
    "# i: label of the i-th marked point\n",
    "# g: genus\n",
    "# n: number of ramification points\n",
    "# d: cohomological degree \n",
    "def geometric_psi(k,i,d,g,n):\n",
    "    if i>n or i<1:\n",
    "        print('i is in [1,n]')\n",
    "    else:\n",
    "        return k**d*psiclass(i,g,n)**d"
   ]
  },
  {
   "cell_type": "code",
   "execution_count": 5,
   "metadata": {},
   "outputs": [],
   "source": [
    "# k : k = [k_1,...,k_n]\n",
    "# g : genus\n",
    "# n : number of ramification points\n",
    "def intersection_of_classes(k,g):\n",
    "    if len(k)>0 and g>=0:\n",
    "        n = len(k)\n",
    "        intersection_value = 0\n",
    "        for i in range(0,g+1):\n",
    "            # i denotes the degree of Lambda that we take, i.e. lambda_i\n",
    "            coh_degree_psis = 3*g-3+n-i\n",
    "            #we create a list which includes all possible values of k_1,...,k_n such that k_1 + ... k_n = 3g-3+n-i\n",
    "            list_values = IntegerVectors(coh_degree_psis,n)\n",
    "            for vector in list_values:\n",
    "                prod_psis = prod(geometric_psi(k[j],j+1,vector[j],g,n) for j in range(0,n))\n",
    "                to_intersect = chern_class_d(i,g,n)*prod_psis\n",
    "                intersection_value += to_intersect.evaluate()\n",
    "        return intersection_value\n",
    "    else:\n",
    "        raise ValueError('k should be a non-empty list and g>=0')"
   ]
  },
  {
   "cell_type": "markdown",
   "metadata": {},
   "source": [
    "We define a function which returns the value of \n",
    "$$\n",
    "\\prod_{i=1}^{n} \\frac{k_i^{k_i}}{k_i!}\n",
    "$$"
   ]
  },
  {
   "cell_type": "code",
   "execution_count": 6,
   "metadata": {},
   "outputs": [],
   "source": [
    "def prod_ks(k):\n",
    "    if len(k)>0:\n",
    "        n = len(k)\n",
    "        product = prod(c**c/factorial(c) for c in k)\n",
    "        return product\n",
    "    else:\n",
    "        raise ValueError('k should be a non-empty list')"
   ]
  },
  {
   "cell_type": "markdown",
   "metadata": {},
   "source": [
    "Finally, we compute the prefactor\n",
    "$$\\frac{m!}{\\# \\mathrm{Aut} (k_1 \\,, \\ldots, k_n)}$$"
   ]
  },
  {
   "cell_type": "code",
   "execution_count": 7,
   "metadata": {},
   "outputs": [],
   "source": [
    "def partition_automorphism_number(part):\n",
    "    return prod(factorial(len(s)) for s in classes(part))"
   ]
  },
  {
   "cell_type": "code",
   "execution_count": 8,
   "metadata": {},
   "outputs": [],
   "source": [
    "def prefactor(k,g):\n",
    "    if len(k)>0:\n",
    "        n = len(k)\n",
    "        sum_of_elements = sum(k)\n",
    "        m = 2*g-2+n + sum_of_elements\n",
    "        prefactor = factorial(m)/partition_automorphism_number(k)\n",
    "        return prefactor\n",
    "    else:\n",
    "        raise ValueError('k should be a non-empty list')"
   ]
  },
  {
   "cell_type": "markdown",
   "metadata": {},
   "source": [
    "Below we define the function which returns Hurwitz numbers."
   ]
  },
  {
   "cell_type": "code",
   "execution_count": 9,
   "metadata": {},
   "outputs": [],
   "source": [
    "def hurwitz(k,g):\n",
    "    hurwitz = prefactor(k,g)*prod_ks(k)*intersection_of_classes(k,g)\n",
    "    return hurwitz"
   ]
  },
  {
   "cell_type": "markdown",
   "metadata": {},
   "source": [
    "Hurwitz numbers $h_{1;(4)} = 160 \\,,  h_{2;(3,1)} = 45927$ are computed below:"
   ]
  },
  {
   "cell_type": "code",
   "execution_count": 10,
   "metadata": {},
   "outputs": [
    {
     "data": {
      "text/plain": [
       "160"
      ]
     },
     "execution_count": 10,
     "metadata": {},
     "output_type": "execute_result"
    }
   ],
   "source": [
    "k = [4];\n",
    "g = 1;\n",
    "hurwitz(k,g)"
   ]
  },
  {
   "cell_type": "code",
   "execution_count": 11,
   "metadata": {},
   "outputs": [
    {
     "data": {
      "text/plain": [
       "45927"
      ]
     },
     "execution_count": 11,
     "metadata": {},
     "output_type": "execute_result"
    }
   ],
   "source": [
    "k = [3,1];\n",
    "g = 2;\n",
    "hurwitz(k,g)"
   ]
  }
 ],
 "metadata": {
  "kernelspec": {
   "display_name": "SageMath 9.7",
   "language": "sage",
   "name": "sagemath"
  },
  "language_info": {
   "codemirror_mode": {
    "name": "ipython",
    "version": 3
   },
   "file_extension": ".py",
   "mimetype": "text/x-python",
   "name": "python",
   "nbconvert_exporter": "python",
   "pygments_lexer": "ipython3",
   "version": "3.10.5"
  }
 },
 "nbformat": 4,
 "nbformat_minor": 4
}
