{
 "cells": [
  {
   "cell_type": "markdown",
   "metadata": {},
   "source": [
    "\n",
    "# Introduction to admcycles I : Basic classes, stable graphs, and relations\n",
    "\n",
    "## Part 1: first tautological classes on the moduli space of curves\n"
   ]
  },
  {
   "cell_type": "markdown",
   "metadata": {},
   "source": [
    "## $\\S 1$ Introduction\n",
    "In the first part of this lecture we are going through the notion of tautological classes and how we can use ``admcycles`` to multiply them, take intersection numbers and compare them. For example, we are going to see how to define and intersect in ``admcycles`` classes such as $\\psi$-classes, $\\kappa$-classes, $\\lambda$-classes and stable graphs, as well as how to take pull-backs and pushforwards of them.\n",
    "\n",
    "In the second part, we are going to see some interesting classes that are subject to nowadays research. The goal is to provide some first tools and examples so that you can take it up from there and adapt / construct what is necessary to support your research."
   ]
  },
  {
   "cell_type": "markdown",
   "metadata": {},
   "source": [
    "## $\\S 2$ First tautological classes\n",
    "\n",
    "\n",
    "Let $\\overline{\\mathcal{M}}_{g,n}$ be the moduli space of stable curves of genus $g$ and $n$ marked distict and labelled points. Recall that this space is compact of dimension $3g - 3 + n$.\n",
    "\n",
    "There exists line bundles \n",
    "$$\n",
    "\\mathcal{L}_i, \\;\\; i = 1, \\dots, n, \\qquad (\\mathcal{L}_i)_C = T^*_{p_i}(C)\n",
    "$$\n",
    "whose fiber over a smooth curve is the cotangent space at the marked point $i$. The first Chern classes of the $\\mathcal{L}_i$ are referred to as $\\psi$-classes:\n",
    "\n",
    "$$\n",
    "\\psi_1 := c_1(\\mathcal{L}_1),\\;  \\dots, \\; \\psi_n := c_1(\\mathcal{L}_n) \\; \\in H^2(\\overline{\\mathcal{M}}_{g,n}).\n",
    "$$\n",
    "\n",
    "\n",
    "A first well-known computation is\n",
    "$$\n",
    "\\int_{\\overline{\\mathcal{M}}_{1,1}} \\psi_1 = \\frac{1}{24},\n",
    "$$\n",
    "which can be computed for instance via modular forms [[Zvonkine 04, Section 2.2.2]](https://www-fourier.ujf-grenoble.fr/sites/ifmaquette.ujf-grenoble.fr/files/ete2011-zvonkine.pdf) or via Kontsevich graphs [[Kontsevich 92]](https://link.springer.com/content/pdf/10.1007/BF02099526.pdf)"
   ]
  },
  {
   "cell_type": "code",
   "execution_count": 15,
   "metadata": {},
   "outputs": [
    {
     "data": {
      "text/plain": [
       "1/24"
      ]
     },
     "execution_count": 15,
     "metadata": {},
     "output_type": "execute_result"
    }
   ],
   "source": [
    "from admcycles import *\n",
    "\n",
    "(g,n) = (1,1)\n",
    "psiclass(1,g,n).evaluate() #1/24"
   ]
  },
  {
   "cell_type": "markdown",
   "metadata": {},
   "source": [
    "The cup product of $H^*(\\overline{\\mathcal{M}}_{g,n})$ in ``admcycles`` is indicated with the usual multiplication symbol. For instance, in order to multiply $\\psi$-classes we can do:"
   ]
  },
  {
   "cell_type": "code",
   "execution_count": 16,
   "metadata": {
    "scrolled": true
   },
   "outputs": [
    {
     "data": {
      "text/plain": [
       "1/12"
      ]
     },
     "execution_count": 16,
     "metadata": {},
     "output_type": "execute_result"
    }
   ],
   "source": [
    "(g,n) = (1,3)\n",
    "C = psiclass(1,g,n)*psiclass(2,g,n)*psiclass(3,g,n)\n",
    "C.evaluate()"
   ]
  },
  {
   "cell_type": "markdown",
   "metadata": {},
   "source": [
    "We can easily take any monomial of $\\psi$-classes and ``evaluate()`` it:\n",
    "\n",
    "$$\n",
    "\\int_{\\overline{\\mathcal{M}}_{g,n}} \\psi_1^{d_1} \\cdots \\psi_n^{d_n} \\in \\mathbb{Q}.\n",
    "$$\n",
    "These are called intersection numbers.\n",
    "\n",
    "Recall that if the degree of the monomial is not equal to the dimension of the moduli space of curves, i.e. \n",
    "$$\n",
    "dim(\\overline{\\mathcal{M}}_{g,n}) = 3g - 3 + n = d_1 + \\dots + d_n,\n",
    "$$\n",
    "the evaluation returns zero.\n"
   ]
  },
  {
   "cell_type": "markdown",
   "metadata": {},
   "source": [
    "#### 2.1 Exercise\n",
    "Intersect over ${\\overline{\\mathcal{M}}_{1,4}}$ the monomials $\\psi_1\\psi_2\\psi_3^2$ and $\\psi_1^2\\psi_2$."
   ]
  },
  {
   "cell_type": "markdown",
   "metadata": {},
   "source": [
    "<details><summary><b>Solution</b> (click to expand)</summary>\n",
    "    \n",
    "```\n",
    "(g,n) = (1,4)\n",
    "M1 = psiclass(1,g,n)*psiclass(2,g,n)*psiclass(3,g,n)**2\n",
    "M2 = psiclass(1,g,n)**2*psiclass(2,g,n)\n",
    "print(M1.evaluate(), M2.evaluate())\n",
    "#You could also print words:\n",
    "print(\"The integral of M1 equals %s, the integral of M2 equals %s, and vanishes for dimension reasons\" %(M1.evaluate(), M2.evaluate()))\n",
    "```\n",
    "\n",
    "</details>"
   ]
  },
  {
   "cell_type": "raw",
   "metadata": {},
   "source": []
  },
  {
   "cell_type": "markdown",
   "metadata": {},
   "source": [
    "To tame intersection numbers, for instance one could pair $\\psi$-classes with formal variables and execute the integration over the moduli space of curves in ``admcycles`` as a polynomial expression in these variables.\n",
    "\n",
    "The expression\n",
    "\\begin{equation}\n",
    "\\int_{\\overline{\\mathcal{M}}_{0,5}} \\frac{1}{\\prod_{i=1}^5 (1 - x_i\\psi_i)} = \\left(\\sum_{i=1}^5 x_i\\right)^{2}\n",
    "\\end{equation}\n",
    "(where all denominators are to be expanded as geometric series) can be at first written and computed as\n",
    "\n"
   ]
  },
  {
   "cell_type": "code",
   "execution_count": 17,
   "metadata": {},
   "outputs": [
    {
     "data": {
      "text/plain": [
       "x1^2 + 2*x1*x2 + x2^2 + 2*x1*x3 + 2*x2*x3 + x3^2 + 2*x1*x4 + 2*x2*x4 + 2*x3*x4 + x4^2 + 2*x1*x5 + 2*x2*x5 + 2*x3*x5 + 2*x4*x5 + x5^2"
      ]
     },
     "execution_count": 17,
     "metadata": {},
     "output_type": "execute_result"
    }
   ],
   "source": [
    "R.<x1,x2,x3,x4,x5> = PolynomialRing(QQ)\n",
    "(g,n) = (0,5)\n",
    "\n",
    "GeomSeries1 = fundclass(g,n) + x1*psiclass(1,g,n) + x1**2*psiclass(1,g,n)**2\n",
    "GeomSeries2 = fundclass(g,n) + x2*psiclass(2,g,n) + x2**2*psiclass(2,g,n)**2\n",
    "GeomSeries3 = fundclass(g,n) + x3*psiclass(3,g,n) + x3**2*psiclass(3,g,n)**2\n",
    "GeomSeries4 = fundclass(g,n) + x4*psiclass(4,g,n) + x4**2*psiclass(4,g,n)**2\n",
    "GeomSeries5 = fundclass(g,n) + x5*psiclass(5,g,n) + x5**2*psiclass(5,g,n)**2\n",
    "\n",
    "Int = (GeomSeries1 * GeomSeries2 * GeomSeries3 * GeomSeries4 * GeomSeries5 ).evaluate()\n",
    "Int"
   ]
  },
  {
   "cell_type": "markdown",
   "metadata": {},
   "source": [
    "#### 2.2 Exercise\n",
    "Check that the result is equal to the RHS of equation (1)."
   ]
  },
  {
   "cell_type": "markdown",
   "metadata": {},
   "source": [
    "<details><summary><b>Solution</b> (click to expand)</summary>\n",
    "    \n",
    "```\n",
    "Int == (x1 + x2 + x3 + x4 + x5)**2\n",
    "> True\n",
    "```\n",
    "\n",
    "</details>"
   ]
  },
  {
   "cell_type": "code",
   "execution_count": null,
   "metadata": {},
   "outputs": [],
   "source": []
  },
  {
   "cell_type": "markdown",
   "metadata": {},
   "source": [
    "The $\\kappa$-classes  are defined as pushforward of the psi classes through the morphisms forgetting a marked point. If \n",
    "$$\n",
    "\\pi^{(j)}: \\overline{\\mathcal{M}}_{g,n+1} \\rightarrow \\overline{\\mathcal{M}}_{g,n}\n",
    "$$\n",
    "forgets the $j$-th marked point, one defines\n",
    "$$\n",
    "\\kappa_m := \\pi^{(j)}_*(\\psi_j^{m+1}) \\in H^{2m}(\\overline{\\mathcal{M}}_{g,n})\n",
    "$$\n",
    "and calls it with ``kappaclass(m,g,n)`` in ``admcycles``. Recall that $\\pi^{(j)}_*$ descreases the complex cohomological degree by one, whereas $(\\pi^{(j)})^*$ preserves it."
   ]
  },
  {
   "cell_type": "markdown",
   "metadata": {},
   "source": [
    "#### 2.3 Exercise\n",
    "Check that $\\kappa_1 \\in H^{2}(\\overline{\\mathcal{M}}_{1,1})$ equals to the pushforward of $\\psi_2^2 \\in H^{2}(\\overline{\\mathcal{M}}_{1,2})$ along the morphism forgetting the second marked point.\n",
    "\n",
    "Hint: use ``class.forgetful_pushforward([2])`` and ``(class1 - class2).is_zero()``"
   ]
  },
  {
   "cell_type": "markdown",
   "metadata": {},
   "source": [
    "<details><summary><b>Solution</b> (click to expand)</summary>\n",
    "    \n",
    "```\n",
    "(g,n) = (1,2)\n",
    "RHS = (psiclass(1,g,n)**2).forgetful_pushforward([2]) # why doesn't it work with marked 1? and why it works for forgetful_pushforward([2]) with psi_1?\n",
    "LHS = kappaclass(1,g,n-1)\n",
    "(RHS - LHS).is_zero()\n",
    ">True\n",
    "```\n",
    "\n",
    "</details>"
   ]
  },
  {
   "cell_type": "code",
   "execution_count": null,
   "metadata": {},
   "outputs": [],
   "source": []
  },
  {
   "cell_type": "markdown",
   "metadata": {},
   "source": [
    "In fact the command ``class.is_zero()`` can be given an argument ``moduli`` to check relations over the open moduli space or over partial compactifications.\n",
    "\n",
    "The command by default executes ``class.is_zero(moduli = 'st')``\n",
    "\n",
    "The additional options for moduli are:\n",
    "* ’tl’ : treelike curves (all cycles in the stable graph have length 1) \n",
    "* ’ct’ : compact type (stable graph is a tree)\n",
    "* ’rt’ : rational tails (there exists vertex of genus g)\n",
    "* ’sm’ : smooth curves"
   ]
  },
  {
   "cell_type": "markdown",
   "metadata": {},
   "source": [
    "#### 2.4 Exercise\n",
    "\n",
    "Let $\\mathbb{E}$ be the rank $g$ vector bundle over $\\overline{\\mathcal{M}}_{g,n}$ whose fiber over a generic curve $C$ is given by the space of holomorphic differential on the curve. Let\n",
    "\n",
    "$$\n",
    "\\lambda_j := c_{j}(\\mathbb{E}) \\in H^{2j}(\\overline{\\mathcal{M}}_{g,n}), \\qquad j=0, \\dots, g.\n",
    "$$\n",
    "be its $j$-th Chern class. They are called in ``admcycles`` with the command ``lambdaclass(j,g,n)``.\n",
    "\n",
    "Check Mumford relation \n",
    "$$\n",
    "\\lambda_1 = \\frac{\\kappa_1}{12} \\in H^2(\\mathcal{M}_g)\n",
    "$$\n",
    "in genus $5$. (Is there another compactification it holds true in, and why?)"
   ]
  },
  {
   "cell_type": "markdown",
   "metadata": {},
   "source": [
    "<details><summary><b>Solution</b> (click to expand)</summary>\n",
    "    \n",
    "```\n",
    "(g,n) = (2,0)\n",
    "RHS = lambdaclass(1,g,n)\n",
    "LHS = kappaclass(1,g,n)\n",
    "(RHS - LHS).is_zero(moduli = 'sm')\n",
    ">True\n",
    "```\n",
    "\n",
    "</details>"
   ]
  },
  {
   "cell_type": "code",
   "execution_count": null,
   "metadata": {},
   "outputs": [],
   "source": []
  },
  {
   "cell_type": "markdown",
   "metadata": {},
   "source": [
    "Let us see how we can easily code some more interesting objects, such as the Weil-Petersson polynomials\n",
    "\n",
    "$$\n",
    "\\mathcal{V}_{g,n}(L_1, \\dots, L_n) := \\int_{\\overline{\\mathcal{M}}_{g,n}} \\exp \\left( 2\\pi^2 \\kappa_1 + \\sum_{i=1}^n \\psi_i \\frac{L_i^2}{2} \\right)\n",
    "$$\n",
    "\n",
    "The Weil-Petersson volumes are obtained as the constant coefficient in the $L_i$."
   ]
  },
  {
   "cell_type": "code",
   "execution_count": 18,
   "metadata": {},
   "outputs": [
    {
     "data": {
      "text/plain": [
       "1/4*pi^4 + 1/12*pi^2*L1^2 + 1/192*L1^4 + 1/12*pi^2*L2^2 + 1/96*L1^2*L2^2 + 1/192*L2^4"
      ]
     },
     "execution_count": 18,
     "metadata": {},
     "output_type": "execute_result"
    }
   ],
   "source": [
    "def expclass(X,g,n):\n",
    "    return fundclass(g,n) + sum([(X^k)*(1/gamma(k+1)) for k in [1..(3*g - 3 + n)]]);\n",
    "\n",
    "(g,n) = (1,2)\n",
    "\n",
    "R.<x,L1,L2> = PolynomialRing(QQ)\n",
    "AA = x*kappaclass(1,g,n) + ((L1**2/2)*psiclass(1,g,n) + (L2**2/2)*psiclass(2,g,n))\n",
    "\n",
    "Weil_Petersson_poly = (expclass(AA,g,n).evaluate()).subs(x=2*pi**2)\n",
    "Weil_Petersson_poly"
   ]
  },
  {
   "cell_type": "code",
   "execution_count": null,
   "metadata": {},
   "outputs": [],
   "source": []
  },
  {
   "cell_type": "markdown",
   "metadata": {},
   "source": [
    "## $\\S 3$ Stable graphs\n",
    "\n",
    "Stable graphs play a fundamental role in the study of $\\overline{\\mathcal{M}}_{g,n}$, as for instance they provide a stratification of the moduli space. \n",
    "* They are essentially graphs with $n$ labeled leaves in which each vertex $v$ is decorated with a genus $g(v) \\geq 0$ so that\n",
    "$$\n",
    "2 g(v) - 2 + val(v) > 0\n",
    "$$\n",
    "where $val(v)$ is the valency of $v$. \n",
    "* Each vertex stands for a stable connected component of the locus of curves that the graph represents, where the nodes are represented by the edges, and the labeled leaves are the marked points. \n",
    "* Self-edges of a vertex are allowed and represent pinched cycles. \n",
    "* Each vertex can be decorated with cohomological classes such as $\\kappa$- and $\\lambda$-classes (in the second part we will see classes with richer structure), each half-edge can be decorated with $\\psi$-classes.\n",
    "* The boundary pushforward \n",
    "* For a stable graph $\\Gamma$ of genus $g$ with $n$ legs\n",
    "$$\n",
    "\\xi_{\\Gamma}: \\overline{\\mathcal{M}}_{\\Gamma} := \\prod_{v \\in V(\\Gamma)} \\overline{\\mathcal{M}}_{g(v), val(v)} \\longrightarrow \\overline{\\mathcal{M}}_{g,n}\n",
    "$$\n",
    "is the glueing map. Its pushforward is called in ``admcycles`` via the command ``Gamma.boundary_pushforward([c1, ..., cm])``, where $c_k$ are cohomological classes decorating the $m$ (ordered in ``admcycles``) vertices of the graph.\n",
    "\n",
    "Let us see an example:"
   ]
  },
  {
   "cell_type": "code",
   "execution_count": 19,
   "metadata": {},
   "outputs": [
    {
     "data": {
      "text/plain": [
       "Graph :      [2, 1] [[4, 1, 2], [3, 5]] [(4, 5)]\n",
       "Polynomial : 1"
      ]
     },
     "execution_count": 19,
     "metadata": {},
     "output_type": "execute_result"
    }
   ],
   "source": [
    "Gamma1=StableGraph([2,1],[[4,1,2],[3,5]],[(4,5)])\n",
    "# DESCRIPTION:\n",
    "# 2 connected components of genera 2 and 1 respectively\n",
    "# The first component has three half-edges attached, with labels [4,1,2]\n",
    "# The second component has two half-edges attached, with labels [3,5]\n",
    "# The list of edges is given by a single edge, identified as the pair (4,5) of half edges\n",
    "\n",
    "# CONCLUSION:\n",
    "# The two components are connected via the only edge. The half-edges [1,2,3] are actual leaves, the half-edges [4,5] are half-edges of an edge.\n",
    "\n",
    "pure_graph_class = Gamma1.boundary_pushforward();\n",
    "pure_graph_class"
   ]
  },
  {
   "cell_type": "markdown",
   "metadata": {},
   "source": [
    "In fact the $(\\psi, \\kappa, \\lambda)$-classes we used so far are encoded in ``admcycles`` as decorating the graph representing the open stratum:"
   ]
  },
  {
   "cell_type": "code",
   "execution_count": 20,
   "metadata": {},
   "outputs": [
    {
     "data": {
      "text/plain": [
       "Graph :      [1] [[1, 2, 3]] []\n",
       "Polynomial : psi_1^2"
      ]
     },
     "execution_count": 20,
     "metadata": {},
     "output_type": "execute_result"
    }
   ],
   "source": [
    "from admcycles import *\n",
    "\n",
    "psiclass(1,1,3)**2"
   ]
  },
  {
   "cell_type": "markdown",
   "metadata": {},
   "source": [
    "Let us now check the formula for the self-intersection of a graph\n"
   ]
  },
  {
   "attachments": {
    "graphs_quared_cut.png": {
     "image/png": "[encoded data removed]"
    }
   },
   "cell_type": "markdown",
   "metadata": {},
   "source": [
    "![graphs_quared_cut.png](attachment:graphs_quared_cut.png)"
   ]
  },
  {
   "cell_type": "code",
   "execution_count": 21,
   "metadata": {},
   "outputs": [
    {
     "data": {
      "text/plain": [
       "True"
      ]
     },
     "execution_count": 21,
     "metadata": {},
     "output_type": "execute_result"
    }
   ],
   "source": [
    "graph_with_psiprime = Gamma1.boundary_pushforward([fundclass(2,3),-psiclass(2,1,2)]);\n",
    "graph_with_psidoubleprime = Gamma1.boundary_pushforward([-psiclass(1,2,3),fundclass(1,2)]);\n",
    "\n",
    "self_intersection_relation = pure_graph_class*pure_graph_class - (graph_with_psiprime + graph_with_psidoubleprime)\n",
    "self_intersection_relation.is_zero()"
   ]
  },
  {
   "cell_type": "markdown",
   "metadata": {},
   "source": [
    "#### 3.1 Exercise\n",
    "\n",
    "Check (one among) the relations:\n",
    "    \n",
    "\\begin{equation}\n",
    "\\pi^*(\\kappa_m) = \\kappa_m - \\psi_{n+1}^m\n",
    "\\end{equation}\n",
    "and\n",
    "\\begin{equation}\n",
    "\\pi^*(\\psi_i) = \\psi_i - D_{{i,n+1}}\n",
    "\\end{equation}\n",
    "for $(g,n,m,i) = (1,1,3,1)$, where $D_{{i,n+1}}$ is the graph with a rational component attached by a single node and containg the leaves $i$ and $n$."
   ]
  },
  {
   "cell_type": "code",
   "execution_count": null,
   "metadata": {},
   "outputs": [],
   "source": []
  },
  {
   "cell_type": "markdown",
   "metadata": {},
   "source": [
    "<details><summary><b>Solution</b> (click to expand)</summary>\n",
    "    \n",
    "```\n",
    "(g,n,m,i)=(1,1,3,1)\n",
    "\n",
    "RHS = kappaclass(m,g,n).forgetful_pullback([n+1])\n",
    "LHS = kappaclass(m,g,n+1) - psiclass(n+1,g,n+1)**m\n",
    "print((RHS - LHS).is_zero())\n",
    "\n",
    "RHS2 = psiclass(i,g,n).forgetful_pullback([n+1])\n",
    "LHS2 = psiclass(i,g,n+1) - StableGraph([1,0],[[4,],[3,1,2]],[(3,4)]).boundary_pushforward()\n",
    "print((RHS2 - LHS2).is_zero())\n",
    "\n",
    ">True\n",
    ">True\n",
    "```"
   ]
  },
  {
   "cell_type": "code",
   "execution_count": null,
   "metadata": {},
   "outputs": [],
   "source": []
  },
  {
   "cell_type": "code",
   "execution_count": null,
   "metadata": {},
   "outputs": [],
   "source": []
  },
  {
   "cell_type": "code",
   "execution_count": null,
   "metadata": {},
   "outputs": [],
   "source": []
  },
  {
   "cell_type": "markdown",
   "metadata": {},
   "source": [
    "We end the section with two natural glueing morphisms.\n",
    "\n",
    "* ``sepbdiv(h,A,g,n)`` gives the pushforward of the boundary gluing map\n",
    "\n",
    "\\begin{equation}\n",
    "\\xi : \\overline{\\mathcal{M}}_{\\Gamma} = \\overline{\\mathcal{M}}_{h,A \\cup {p}} \\times \\overline{\\mathcal{M}}_{g-h, (\\{1, \\dots,n \\} \\setminus A) \\cup \\{q\\}} \\longrightarrow \\overline{\\mathcal{M}}_{g,n}\n",
    "\\end{equation}\n",
    "where A can be a list, a set or a tuple of numbers in $\\{1 \\dots n \\}$.\n",
    "\n",
    "* ``irrbdiv(g,n)`` gives the pushforward of the boundary gluing map\n",
    "$$\n",
    "\\xi' : \\overline{\\mathcal{M}}_{g−1,n+2} \\longrightarrow \\overline{\\mathcal{M}}_{g,n}\n",
    "$$\n",
    "identifying the last two markings to a node (care factors of two for automorphisms, this map gives twice the fundamental class)."
   ]
  },
  {
   "cell_type": "markdown",
   "metadata": {},
   "source": [
    "#### 3.2 Exercise\n",
    "\n",
    "The class $\\lambda_g$ vanishes when supported on the divisor given by a non-separating node (use the command ``irrbdiv``). Check for $(g,n) = (2,2)$."
   ]
  },
  {
   "cell_type": "code",
   "execution_count": null,
   "metadata": {},
   "outputs": [],
   "source": []
  },
  {
   "cell_type": "markdown",
   "metadata": {},
   "source": [
    "<details><summary><b>Solution</b> (click to expand)</summary>\n",
    "    \n",
    "```\n",
    "(g,n) = (2,2)\n",
    "Check = irrbdiv(g,n)*lambdaclass(g,g,n)\n",
    "Check.is_zero()\n",
    "> True\n",
    "```\n",
    "\n",
    "</details>"
   ]
  },
  {
   "cell_type": "raw",
   "metadata": {},
   "source": []
  },
  {
   "cell_type": "markdown",
   "metadata": {},
   "source": [
    "## $\\S 4$ Generators and bases"
   ]
  },
  {
   "cell_type": "markdown",
   "metadata": {},
   "source": [
    "For each given $(g,n,d)$ with $d$ the cohomological degree ($0 \\leq d \\leq 3g - 3 + n $), one can print the list of stable graphs decorated with $\\psi$- and $\\kappa$-classes generating the tautological ring $RH^{2d}(\\overline{\\mathcal{M}}_{g,n})$ with the command ``list_tautgens(g,n,d)`` (recall that each node contributes one complex degree)."
   ]
  },
  {
   "cell_type": "code",
   "execution_count": 22,
   "metadata": {
    "scrolled": true
   },
   "outputs": [
    {
     "name": "stdout",
     "output_type": "stream",
     "text": [
      "[0] : Graph :      [1] [[1, 2, 3]] []\n",
      "Polynomial : (kappa_2)_0\n",
      "[1] : Graph :      [1] [[1, 2, 3]] []\n",
      "Polynomial : (kappa_1^2)_0\n",
      "[2] : Graph :      [1] [[1, 2, 3]] []\n",
      "Polynomial : (kappa_1)_0*psi_1\n",
      "[3] : Graph :      [1] [[1, 2, 3]] []\n",
      "Polynomial : (kappa_1)_0*psi_2\n",
      "[4] : Graph :      [1] [[1, 2, 3]] []\n",
      "Polynomial : (kappa_1)_0*psi_3\n",
      "[5] : Graph :      [1] [[1, 2, 3]] []\n",
      "Polynomial : psi_1^2\n",
      "[6] : Graph :      [1] [[1, 2, 3]] []\n",
      "Polynomial : psi_1*psi_2\n",
      "[7] : Graph :      [1] [[1, 2, 3]] []\n",
      "Polynomial : psi_1*psi_3\n",
      "[8] : Graph :      [1] [[1, 2, 3]] []\n",
      "Polynomial : psi_2^2\n",
      "[9] : Graph :      [1] [[1, 2, 3]] []\n",
      "Polynomial : psi_2*psi_3\n",
      "[10] : Graph :      [1] [[1, 2, 3]] []\n",
      "Polynomial : psi_3^2\n",
      "[11] : Graph :      [0, 1] [[2, 3, 5], [1, 6]] [(5, 6)]\n",
      "Polynomial : (kappa_1)_1\n",
      "[12] : Graph :      [0, 1] [[2, 3, 5], [1, 6]] [(5, 6)]\n",
      "Polynomial : psi_1\n",
      "[13] : Graph :      [0, 1] [[2, 3, 5], [1, 6]] [(5, 6)]\n",
      "Polynomial : psi_6\n",
      "[14] : Graph :      [0, 1] [[1, 3, 5], [2, 6]] [(5, 6)]\n",
      "Polynomial : (kappa_1)_1\n",
      "[15] : Graph :      [0, 1] [[1, 3, 5], [2, 6]] [(5, 6)]\n",
      "Polynomial : psi_2\n",
      "[16] : Graph :      [0, 1] [[1, 3, 5], [2, 6]] [(5, 6)]\n",
      "Polynomial : psi_6\n",
      "[17] : Graph :      [0, 1] [[1, 2, 5], [3, 6]] [(5, 6)]\n",
      "Polynomial : (kappa_1)_1\n",
      "[18] : Graph :      [0, 1] [[1, 2, 5], [3, 6]] [(5, 6)]\n",
      "Polynomial : psi_3\n",
      "[19] : Graph :      [0, 1] [[1, 2, 5], [3, 6]] [(5, 6)]\n",
      "Polynomial : psi_6\n",
      "[20] : Graph :      [0, 1] [[1, 2, 3, 5], [6]] [(5, 6)]\n",
      "Polynomial : (kappa_1)_0\n",
      "[21] : Graph :      [0, 1] [[1, 2, 3, 5], [6]] [(5, 6)]\n",
      "Polynomial : psi_1\n",
      "[22] : Graph :      [0, 1] [[1, 2, 3, 5], [6]] [(5, 6)]\n",
      "Polynomial : psi_2\n",
      "[23] : Graph :      [0, 1] [[1, 2, 3, 5], [6]] [(5, 6)]\n",
      "Polynomial : psi_3\n",
      "[24] : Graph :      [0, 1] [[1, 2, 3, 5], [6]] [(5, 6)]\n",
      "Polynomial : psi_5\n",
      "[25] : Graph :      [0, 0, 1] [[2, 3, 6], [1, 7, 8], [9]] [(6, 7), (8, 9)]\n",
      "Polynomial : 1\n",
      "[26] : Graph :      [0, 0, 1] [[1, 3, 6], [2, 7, 8], [9]] [(6, 7), (8, 9)]\n",
      "Polynomial : 1\n",
      "[27] : Graph :      [0, 0, 1] [[1, 2, 6], [3, 7, 8], [9]] [(6, 7), (8, 9)]\n",
      "Polynomial : 1\n",
      "[28] : Graph :      [0, 1] [[1, 2, 3, 5], [6]] [(5, 6)]\n",
      "Polynomial : (kappa_1)_1\n",
      "[29] : Graph :      [0, 1] [[1, 2, 3, 5], [6]] [(5, 6)]\n",
      "Polynomial : psi_6\n",
      "[30] : Graph :      [0] [[5, 6, 1, 2, 3]] [(5, 6)]\n",
      "Polynomial : (kappa_1)_0\n",
      "[31] : Graph :      [0] [[5, 6, 1, 2, 3]] [(5, 6)]\n",
      "Polynomial : psi_5\n",
      "[32] : Graph :      [0] [[5, 6, 1, 2, 3]] [(5, 6)]\n",
      "Polynomial : psi_1\n",
      "[33] : Graph :      [0] [[5, 6, 1, 2, 3]] [(5, 6)]\n",
      "Polynomial : psi_2\n",
      "[34] : Graph :      [0] [[5, 6, 1, 2, 3]] [(5, 6)]\n",
      "Polynomial : psi_3\n",
      "[35] : Graph :      [0, 0] [[2, 3, 8], [6, 7, 1, 9]] [(6, 7), (8, 9)]\n",
      "Polynomial : 1\n",
      "[36] : Graph :      [0, 0] [[1, 3, 8], [6, 7, 2, 9]] [(6, 7), (8, 9)]\n",
      "Polynomial : 1\n",
      "[37] : Graph :      [0, 0] [[1, 2, 8], [6, 7, 3, 9]] [(6, 7), (8, 9)]\n",
      "Polynomial : 1\n",
      "[38] : Graph :      [0, 0] [[1, 2, 3, 8], [6, 7, 9]] [(6, 7), (8, 9)]\n",
      "Polynomial : 1\n",
      "[39] : Graph :      [0, 0] [[6, 3, 8], [7, 1, 2, 9]] [(6, 7), (8, 9)]\n",
      "Polynomial : 1\n",
      "[40] : Graph :      [0, 0] [[6, 2, 8], [7, 1, 3, 9]] [(6, 7), (8, 9)]\n",
      "Polynomial : 1\n",
      "[41] : Graph :      [0, 0] [[6, 2, 3, 8], [7, 1, 9]] [(6, 7), (8, 9)]\n",
      "Polynomial : 1\n"
     ]
    }
   ],
   "source": [
    "(g,n,d) = (1,3,2)\n",
    "list_tautgens(g,n,d)"
   ]
  },
  {
   "cell_type": "markdown",
   "metadata": {},
   "source": [
    "One could also use simply ``tautgens(g,n,d)``, although the list does not get enumerated.\n",
    "\n",
    "Out of all these generators, after applying Pixton's relations, only a few are seen to be linearly independent."
   ]
  },
  {
   "cell_type": "code",
   "execution_count": 23,
   "metadata": {},
   "outputs": [
    {
     "data": {
      "text/plain": [
       "[0, 1, 2, 3, 4]"
      ]
     },
     "execution_count": 23,
     "metadata": {},
     "output_type": "execute_result"
    }
   ],
   "source": [
    "(g,n,d) = (1,3,2)\n",
    "generating_indices(g,n,d)"
   ]
  },
  {
   "cell_type": "markdown",
   "metadata": {},
   "source": [
    "One can fish out a single one from the list simply by:"
   ]
  },
  {
   "cell_type": "code",
   "execution_count": 24,
   "metadata": {},
   "outputs": [
    {
     "data": {
      "text/plain": [
       "Graph :      [1] [[1, 2, 3]] []\n",
       "Polynomial : (kappa_1)_0*psi_3"
      ]
     },
     "execution_count": 24,
     "metadata": {},
     "output_type": "execute_result"
    }
   ],
   "source": [
    "tautgens(g,n,d)[4]"
   ]
  },
  {
   "cell_type": "markdown",
   "metadata": {},
   "source": [
    "Viceversa, you might construct a class and wanting to know how it decomposes into the basis which has been chosen here to be canonical. For example"
   ]
  },
  {
   "cell_type": "code",
   "execution_count": 25,
   "metadata": {},
   "outputs": [
    {
     "data": {
      "text/plain": [
       "(0, 0, 0, 0, 1)"
      ]
     },
     "execution_count": 25,
     "metadata": {},
     "output_type": "execute_result"
    }
   ],
   "source": [
    "(g,n) = (1,3)\n",
    "Class1 = psiclass(3,g,n)*kappaclass(1,g,n)\n",
    "Class1.basis_vector()"
   ]
  },
  {
   "cell_type": "code",
   "execution_count": 26,
   "metadata": {},
   "outputs": [
    {
     "data": {
      "text/plain": [
       "(57/2, -57/2, 0, 57/2, 57/2)"
      ]
     },
     "execution_count": 26,
     "metadata": {},
     "output_type": "execute_result"
    }
   ],
   "source": [
    "Gamma = StableGraph([1,0], [[1,4],[2,3,5]], [(4,5)])\n",
    "Class2 = Gamma.boundary_pushforward([57*psiclass(1,1,2),fundclass(0,3)])\n",
    "Class2.basis_vector()"
   ]
  },
  {
   "cell_type": "markdown",
   "metadata": {},
   "source": [
    "#### 4.1 Exercise\n",
    "Define a class in $RH^{4}(\\overline{\\mathcal{M}}_{1,3})$, i.e. $(g,n,d) = (1,3,2)$, that requires more than one element of the basis to be expressed. Check your guess with the command ``basis_vector()``."
   ]
  },
  {
   "cell_type": "markdown",
   "metadata": {},
   "source": [
    "<details><summary><b>Solution</b> (click to expand)</summary>\n",
    "    \n",
    "```\n",
    "Gamma = StableGraph([1,0], [[1,4],[2,3,5]], [(4,5)])\n",
    "Class2 = Gamma.boundary_pushforward([57*psiclass(1,1,2),fundclass(0,3)])\n",
    "Class2.basis_vector()\n",
    "> (57/2, -57/2, 0, 57/2, 57/2)\n",
    "```\n",
    "\n",
    "</details>"
   ]
  },
  {
   "cell_type": "code",
   "execution_count": null,
   "metadata": {},
   "outputs": [],
   "source": []
  },
  {
   "cell_type": "code",
   "execution_count": null,
   "metadata": {},
   "outputs": [],
   "source": []
  }
 ],
 "metadata": {
  "kernelspec": {
   "display_name": "SageMath 9.7",
   "language": "sage",
   "name": "sagemath"
  },
  "language_info": {
   "codemirror_mode": {
    "name": "ipython",
    "version": 3
   },
   "file_extension": ".py",
   "mimetype": "text/x-python",
   "name": "python",
   "nbconvert_exporter": "python",
   "pygments_lexer": "ipython3",
   "version": "3.10.5"
  }
 },
 "nbformat": 4,
 "nbformat_minor": 4
}
