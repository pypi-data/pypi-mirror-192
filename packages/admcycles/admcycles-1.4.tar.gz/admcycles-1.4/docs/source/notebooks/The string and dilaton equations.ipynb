{
 "cells": [
  {
   "cell_type": "markdown",
   "metadata": {},
   "source": [
    "# The string and dilaton equations\n",
    "\n",
    "There at least two well-known equations which play a role in the intersection theory of $\\overline{\\mathcal{M}}_{g,n}$: the string and the dilaton equation. Intuitively, they are at times the starting point for something deeper.\n",
    "\n",
    "To fix the ideas, let $\\mathcal{C}_{g,n} \\in H^*(\\overline{\\mathcal{M}}_{g,n})_{2g - 2 + n > 0}$ be a collection of cohomological classes. The two equations read as follows. For more explanations and the proofs see Section 4 of [[Zvonkine]](https://www-fourier.ujf-grenoble.fr/sites/ifmaquette.ujf-grenoble.fr/files/ete2011-zvonkine.pdf).\n",
    "\n",
    "### String equation\n",
    "\n",
    "The string equation describes how to reduce a psi class to the power zero.\n",
    "\n",
    "$$\n",
    "\\int_{\\overline{\\mathcal{M}}_{g,n+1}} \\mathcal{C}_{g,n+1} \\psi_1^{d_1} \\cdots \\psi_n^{d_n} \\psi_{n+1}^0\n",
    "=\n",
    "\\sum_{i=1}^{n} \\int_{\\overline{\\mathcal{M}}_{g,n}} \\mathcal{C}_{g,n} \\psi_1^{d_1} \\cdots\\psi_{i}^{d_i - 1} \\cdots \\psi_n^{d_n}\n",
    "$$\n",
    "\n",
    "Alternatively, in terms of generating series can be written as\n",
    "\n",
    "$$\n",
    "\\int_{\\overline{\\mathcal{M}}_{g,n+1}} \\frac{\\mathcal{C}_{g,n+1}}{\\prod_{i=1}^{n+1} (1 - x_i \\psi_i)} \\Bigg{|}_{x_{n+1} = 0}\n",
    "=\n",
    "(x_1 + \\dots + x_n) \\int_{\\overline{\\mathcal{M}}_{g,n}} \\frac{\\mathcal{C}_{g,n}}{\\prod_{i=1}^{n} (1 - x_i \\psi_i)}\n",
    "$$\n",
    "\n",
    "### Dilaton equation\n",
    "\n",
    "The dilaton equation describes how to reduce a psi class to the power zero.\n",
    "\n",
    "$$\n",
    "\\int_{\\overline{\\mathcal{M}}_{g,n+1}} \\mathcal{C}_{g,n+1} \\psi_1^{d_1} \\cdots \\psi_n^{d_n} \\psi_{n+1}^1\n",
    "=\n",
    "(2g - 2 + n ) \\int_{\\overline{\\mathcal{M}}_{g,n}} \\mathcal{C}_{g,n} \\psi_1^{d_1} \\cdots \\psi_n^{d_n}\n",
    "$$\n",
    "\n",
    "Alternatively, in terms of generating series can be written as\n",
    "\n",
    "$$\n",
    "\\frac{\\partial}{\\partial x_{n+1}} \\int_{\\overline{\\mathcal{M}}_{g,n+1}} \\frac{\\mathcal{C}_{g,n+1}}{\\prod_{i=1}^{n+1} (1 - x_i \\psi_i)} \\Bigg{|}_{x_{n+1} = 0}\n",
    "=\n",
    "(2g - 2 + n) \\int_{\\overline{\\mathcal{M}}_{g,n}} \\frac{\\mathcal{C}_{g,n}}{\\prod_{i=1}^{n} (1 - x_i \\psi_i)}\n",
    "$$\n",
    "\n",
    "We can take the simplest possible collection of classes, that is, $\\mathcal{C}_{g,n}$ equal to the fundamental class (function `fundclass(g,n)`), and write a test that takes in the pair $(g,n)$ and checks string and dilaton equation."
   ]
  },
  {
   "cell_type": "code",
   "execution_count": 4,
   "metadata": {},
   "outputs": [],
   "source": [
    "from admcycles import *\n",
    "def test_string_eq(g, n, X0=None,X1=None,d=None):\n",
    "    if d:\n",
    "        power_prec = d+1\n",
    "    else:\n",
    "        power_prec = 3*g-1+n\n",
    "\n",
    "    TR0 = TautologicalRing(g,n+1)\n",
    "    TR1 = TautologicalRing(g,n)\n",
    "    R = PowerSeriesRing(QQ, 'x', num_gens=n+1, default_prec=power_prec)\n",
    "    E0 = prod([1/(1-t) for t in R.gens()])\n",
    "    m0 = tuple([R.gens()[i]*TR0.psi(i+1) for i in range(n)]+[0])\n",
    "    F0 = E0.polynomial()\n",
    "    LHS = F0(*m0)\n",
    "    E1 = prod([1/(1-t) for t in R.gens()[0:-1]])\n",
    "    m1 = tuple([R.gens()[i]*TR1.psi(i+1) for i in range(n)]+[0])\n",
    "    F1 = E1.polynomial()\n",
    "    RHS = F1(*m1)*(sum([t for t in R.gens()[0:-1]])).polynomial()\n",
    "    if X0:\n",
    "        LHS = LHS*X0\n",
    "    if X1:\n",
    "        RHS = RHS*X1 \n",
    "    LHS = LHS.evaluate()\n",
    "    RHS = RHS.evaluate()\n",
    "    print(str(LHS))\n",
    "    print(str(RHS))\n",
    "    return (LHS == RHS)"
   ]
  },
  {
   "cell_type": "code",
   "execution_count": 5,
   "metadata": {},
   "outputs": [],
   "source": [
    "def test_dilaton_eq(g, n, X0=None,X1=None,d=None):\n",
    "    if d:\n",
    "        power_prec = d+1\n",
    "    else:\n",
    "        power_prec = 3*g-1+n\n",
    "\n",
    "    TR0 = TautologicalRing(g,n+1)\n",
    "    TR1 = TautologicalRing(g,n)\n",
    "    R = PowerSeriesRing(QQ, 'x', num_gens=n+1, default_prec=power_prec)\n",
    "    E0 = prod([1/(1-t) for t in R.gens()])\n",
    "    m0 = tuple([R.gens()[i]*TR0.psi(i+1) for i in range(n+1)])\n",
    "    F0 = E0.polynomial()\n",
    "    LHS = F0(*m0)\n",
    "    E1 = prod([1/(1-t) for t in R.gens()[0:-1]])\n",
    "    m1 = tuple([R.gens()[i]*TR1.psi(i+1) for i in range(n)]+[0])\n",
    "    F1 = E1.polynomial()\n",
    "    RHS = (2*g-2+n)*F1(*m1)\n",
    "    if X0:\n",
    "        LHS = LHS*X0\n",
    "    if X1:\n",
    "        RHS = RHS*X1\n",
    "    m = tuple([R.gens()[i] for i in range(n)]+[0])\n",
    "    result = LHS.evaluate().derivative(R.gens()[n])\n",
    "    LHS = result(*m)\n",
    "    RHS = RHS.evaluate()\n",
    "    print(str(LHS))\n",
    "    print(str(RHS))\n",
    "    return (LHS == RHS)"
   ]
  },
  {
   "cell_type": "code",
   "execution_count": 6,
   "metadata": {},
   "outputs": [
    {
     "name": "stdout",
     "output_type": "stream",
     "text": [
      "1/1152*x0^7 + 5/1152*x0^6*x1 + 5/1152*x0^6*x2 + 1/90*x0^5*x1^2 + 5/288*x0^5*x1*x2 + 1/90*x0^5*x2^2 + 17/960*x0^4*x1^3 + 11/288*x0^4*x1^2*x2 + 11/288*x0^4*x1*x2^2 + 17/960*x0^4*x2^3 + 17/960*x0^3*x1^4 + 29/576*x0^3*x1^3*x2 + 5/72*x0^3*x1^2*x2^2 + 29/576*x0^3*x1*x2^3 + 17/960*x0^3*x2^4 + 1/90*x0^2*x1^5 + 11/288*x0^2*x1^4*x2 + 5/72*x0^2*x1^3*x2^2 + 5/72*x0^2*x1^2*x2^3 + 11/288*x0^2*x1*x2^4 + 1/90*x0^2*x2^5 + 5/1152*x0*x1^6 + 5/288*x0*x1^5*x2 + 11/288*x0*x1^4*x2^2 + 29/576*x0*x1^3*x2^3 + 11/288*x0*x1^2*x2^4 + 5/288*x0*x1*x2^5 + 5/1152*x0*x2^6 + 1/1152*x1^7 + 5/1152*x1^6*x2 + 1/90*x1^5*x2^2 + 17/960*x1^4*x2^3 + 17/960*x1^3*x2^4 + 1/90*x1^2*x2^5 + 5/1152*x1*x2^6 + 1/1152*x2^7\n",
      "1/1152*x0^7 + 5/1152*x0^6*x1 + 5/1152*x0^6*x2 + 1/90*x0^5*x1^2 + 5/288*x0^5*x1*x2 + 1/90*x0^5*x2^2 + 17/960*x0^4*x1^3 + 11/288*x0^4*x1^2*x2 + 11/288*x0^4*x1*x2^2 + 17/960*x0^4*x2^3 + 17/960*x0^3*x1^4 + 29/576*x0^3*x1^3*x2 + 5/72*x0^3*x1^2*x2^2 + 29/576*x0^3*x1*x2^3 + 17/960*x0^3*x2^4 + 1/90*x0^2*x1^5 + 11/288*x0^2*x1^4*x2 + 5/72*x0^2*x1^3*x2^2 + 5/72*x0^2*x1^2*x2^3 + 11/288*x0^2*x1*x2^4 + 1/90*x0^2*x2^5 + 5/1152*x0*x1^6 + 5/288*x0*x1^5*x2 + 11/288*x0*x1^4*x2^2 + 29/576*x0*x1^3*x2^3 + 11/288*x0*x1^2*x2^4 + 5/288*x0*x1*x2^5 + 5/1152*x0*x2^6 + 1/1152*x1^7 + 5/1152*x1^6*x2 + 1/90*x1^5*x2^2 + 17/960*x1^4*x2^3 + 17/960*x1^3*x2^4 + 1/90*x1^2*x2^5 + 5/1152*x1*x2^6 + 1/1152*x2^7\n"
     ]
    },
    {
     "data": {
      "text/plain": [
       "True"
      ]
     },
     "execution_count": 6,
     "metadata": {},
     "output_type": "execute_result"
    }
   ],
   "source": [
    "test_string_eq(2,3)"
   ]
  },
  {
   "cell_type": "code",
   "execution_count": 7,
   "metadata": {},
   "outputs": [
    {
     "name": "stdout",
     "output_type": "stream",
     "text": [
      "5/1152*x0^6 + 5/288*x0^5*x1 + 5/288*x0^5*x2 + 11/288*x0^4*x1^2 + 5/96*x0^4*x1*x2 + 11/288*x0^4*x2^2 + 29/576*x0^3*x1^3 + 29/288*x0^3*x1^2*x2 + 29/288*x0^3*x1*x2^2 + 29/576*x0^3*x2^3 + 11/288*x0^2*x1^4 + 29/288*x0^2*x1^3*x2 + 7/48*x0^2*x1^2*x2^2 + 29/288*x0^2*x1*x2^3 + 11/288*x0^2*x2^4 + 5/288*x0*x1^5 + 5/96*x0*x1^4*x2 + 29/288*x0*x1^3*x2^2 + 29/288*x0*x1^2*x2^3 + 5/96*x0*x1*x2^4 + 5/288*x0*x2^5 + 5/1152*x1^6 + 5/288*x1^5*x2 + 11/288*x1^4*x2^2 + 29/576*x1^3*x2^3 + 11/288*x1^2*x2^4 + 5/288*x1*x2^5 + 5/1152*x2^6\n",
      "5/1152*x0^6 + 5/288*x0^5*x1 + 5/288*x0^5*x2 + 11/288*x0^4*x1^2 + 5/96*x0^4*x1*x2 + 11/288*x0^4*x2^2 + 29/576*x0^3*x1^3 + 29/288*x0^3*x1^2*x2 + 29/288*x0^3*x1*x2^2 + 29/576*x0^3*x2^3 + 11/288*x0^2*x1^4 + 29/288*x0^2*x1^3*x2 + 7/48*x0^2*x1^2*x2^2 + 29/288*x0^2*x1*x2^3 + 11/288*x0^2*x2^4 + 5/288*x0*x1^5 + 5/96*x0*x1^4*x2 + 29/288*x0*x1^3*x2^2 + 29/288*x0*x1^2*x2^3 + 5/96*x0*x1*x2^4 + 5/288*x0*x2^5 + 5/1152*x1^6 + 5/288*x1^5*x2 + 11/288*x1^4*x2^2 + 29/576*x1^3*x2^3 + 11/288*x1^2*x2^4 + 5/288*x1*x2^5 + 5/1152*x2^6\n"
     ]
    },
    {
     "data": {
      "text/plain": [
       "True"
      ]
     },
     "execution_count": 7,
     "metadata": {},
     "output_type": "execute_result"
    }
   ],
   "source": [
    "test_dilaton_eq(2,3)"
   ]
  }
 ],
 "metadata": {
  "kernelspec": {
   "display_name": "SageMath 9.7",
   "language": "sage",
   "name": "sagemath"
  },
  "language_info": {
   "codemirror_mode": {
    "name": "ipython",
    "version": 3
   },
   "file_extension": ".py",
   "mimetype": "text/x-python",
   "name": "python",
   "nbconvert_exporter": "python",
   "pygments_lexer": "ipython3",
   "version": "3.8.10"
  }
 },
 "nbformat": 4,
 "nbformat_minor": 4
}
