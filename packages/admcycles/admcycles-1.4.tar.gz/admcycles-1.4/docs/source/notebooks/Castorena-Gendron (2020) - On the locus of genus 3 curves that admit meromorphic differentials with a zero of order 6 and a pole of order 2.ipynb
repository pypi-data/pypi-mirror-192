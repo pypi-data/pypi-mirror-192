{
 "cells": [
  {
   "cell_type": "markdown",
   "metadata": {},
   "source": [
    "# Castorena-Gendron (2020) - On the locus of genus 3 curves that admit meromorphic differentials with a zero of order 6 and a pole of order 2\n",
    "\n",
    "In [[Castorena-Gendron 20]](https://arxiv.org/abs/2003.12001) the authors prove in Theorem 1.1 that\n",
    "\n",
    "$$\\Omega \\overline{\\mathcal{M}}_{3,2}(6,-2) = 17108 \\lambda_1 - 1792 \\delta_0 - 4396 \\delta_1 \\qquad \\text{in } \\mathrm{Pic}(\\overline{\\mathcal{M}}_3)$$\n",
    "\n",
    "and in Equation 10 that\n",
    "\\begin{equation*}\n",
    "\\Omega \\mathcal{M}_{3,2}(6,-2) = 17108 \\lambda_1 \\qquad \\text{in } \\mathrm{Pic}(\\mathcal{M}_3).\n",
    "\\end{equation*}"
   ]
  },
  {
   "cell_type": "code",
   "execution_count": 1,
   "metadata": {},
   "outputs": [
    {
     "data": {
      "text/plain": [
       "True"
      ]
     },
     "execution_count": 1,
     "metadata": {},
     "output_type": "execute_result"
    }
   ],
   "source": [
    "from admcycles import Strataclass, TautologicalRing\n",
    "\n",
    "S = Strataclass(3, 1, (6, -2)).forgetful_pushforward([1, 2])\n",
    "T = TautologicalRing(3,0)\n",
    "\n",
    "(S - 17108*T.lambdaclass(1)).is_zero(moduli=\"sm\")"
   ]
  },
  {
   "cell_type": "code",
   "execution_count": 2,
   "metadata": {},
   "outputs": [
    {
     "data": {
      "text/plain": [
       "True"
      ]
     },
     "execution_count": 2,
     "metadata": {},
     "output_type": "execute_result"
    }
   ],
   "source": [
    "(S - 17108*T.lambdaclass(1) + 1792/2*T.irrbdiv() + 4396*T.sepbdiv(1,[])).is_zero()"
   ]
  },
  {
   "cell_type": "markdown",
   "metadata": {},
   "source": [
    "Note that we have to divided the class of ``T.irrbdiv()`` by the degree of the gluing map."
   ]
  }
 ],
 "metadata": {
  "kernelspec": {
   "display_name": "SageMath 9.7",
   "language": "sage",
   "name": "sagemath"
  },
  "language_info": {
   "codemirror_mode": {
    "name": "ipython",
    "version": 3
   },
   "file_extension": ".py",
   "mimetype": "text/x-python",
   "name": "python",
   "nbconvert_exporter": "python",
   "pygments_lexer": "ipython3",
   "version": "3.10.5"
  }
 },
 "nbformat": 4,
 "nbformat_minor": 4
}
