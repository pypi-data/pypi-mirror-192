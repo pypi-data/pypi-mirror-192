{
 "cells": [
  {
   "cell_type": "markdown",
   "metadata": {},
   "source": [
    "# Faber (1995) - Intersection-theoretical computations on the moduli space of stable curves\n",
    "On page 6 of [this paper](https://arxiv.org/abs/alg-geom/9504005) the class of the bielliptic locus in $\\overline{{M}}_2$ is computed as\n",
    "\n",
    "$$\n",
    "B_2 = 60 \\lambda + 3 \\delta_1\n",
    "$$\n",
    "\n",
    "However, this is for the intersection theory on the *coarse moduli space*. Using that the generic elements of $B_2$ and $\\delta_1$ have automorphism groups of order $4$, we obtain that in the usual intersection theory on the stack $\\overline{\\mathcal{M}}_{2}$ we have\n",
    "\n",
    "$$\n",
    "4 \\mathcal{B}_2 = 60 \\lambda + 12 \\delta_1 \\iff B_2 = 15 \\lambda + 3 \\delta_1\n",
    "$$\n",
    "\n",
    "We can check this formula using ``admcycles``, which computes the class by intersecting this cycle with the boundary of $\\overline{\\mathcal{M}}_2$."
   ]
  },
  {
   "cell_type": "code",
   "execution_count": 2,
   "metadata": {},
   "outputs": [
    {
     "data": {
      "text/plain": [
       "True"
      ]
     },
     "execution_count": 2,
     "metadata": {},
     "output_type": "execute_result"
    }
   ],
   "source": [
    "from admcycles import *\n",
    "B2 = Biell(2)\n",
    "B2 == 15*lambdaclass(1,2,0) + 3/2*sepbdiv(1,(),2,0)"
   ]
  },
  {
   "cell_type": "markdown",
   "metadata": {},
   "source": [
    "Note that the coefficient of ``sepbdiv`` is ``3/2`` instead of ``3`` since we need to divide by the degree of the associated gluing map. This degree is two, corresponding to the order of the automorphism group of the corresponding stable graph."
   ]
  }
 ],
 "metadata": {
  "kernelspec": {
   "display_name": "SageMath 9.7",
   "language": "sage",
   "name": "sagemath"
  },
  "language_info": {
   "codemirror_mode": {
    "name": "ipython",
    "version": 3
   },
   "file_extension": ".py",
   "mimetype": "text/x-python",
   "name": "python",
   "nbconvert_exporter": "python",
   "pygments_lexer": "ipython3",
   "version": "3.10.5"
  }
 },
 "nbformat": 4,
 "nbformat_minor": 4
}
