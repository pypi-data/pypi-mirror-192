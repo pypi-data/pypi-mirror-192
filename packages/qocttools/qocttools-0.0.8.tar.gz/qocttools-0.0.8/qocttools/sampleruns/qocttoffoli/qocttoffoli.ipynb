{
 "cells": [
  {
   "cell_type": "markdown",
   "metadata": {},
   "source": [
    "# Design of optimal toffoli gate in the GdW$_{30}$ system, via quantum optimal control."
   ]
  },
  {
   "cell_type": "markdown",
   "metadata": {},
   "source": [
    "This notebook uses both optimization on top of the Schrödinger equation (for the evolution operator), and on top of Lindblad's equation, in the presence of dissipation terms."
   ]
  },
  {
   "cell_type": "code",
   "execution_count": null,
   "metadata": {},
   "outputs": [],
   "source": [
    "try:\n",
    "    get_ipython\n",
    "    isnotebook = True\n",
    "except:\n",
    "    isnotebook = False\n",
    "\n",
    "import os\n",
    "import sys\n",
    "import numpy as np\n",
    "import scipy as sp\n",
    "import matplotlib.pyplot as plt\n",
    "from qutip import *\n",
    "from time import time as clocktime\n",
    "from scipy.optimize import curve_fit\n",
    "from qutip.qip.operations import toffoli\n",
    "\n",
    "import nlopt"
   ]
  },
  {
   "cell_type": "code",
   "execution_count": null,
   "metadata": {},
   "outputs": [],
   "source": [
    "import qocttools\n",
    "import qocttools.models.GdW30 as GdW30\n",
    "import qocttools.hamiltonians as hamiltonians\n",
    "import qocttools.math_extra as math_extra\n",
    "import qocttools.pulses as pulses\n",
    "import qocttools.qoct as qoct\n",
    "import qocttools.solvers as solvers\n",
    "import qocttools.target as target"
   ]
  },
  {
   "cell_type": "code",
   "execution_count": null,
   "metadata": {},
   "outputs": [],
   "source": [
    "qocttools.about()"
   ]
  },
  {
   "cell_type": "code",
   "execution_count": null,
   "metadata": {},
   "outputs": [],
   "source": [
    "data = []"
   ]
  },
  {
   "cell_type": "markdown",
   "metadata": {},
   "source": [
    "# Model"
   ]
  },
  {
   "cell_type": "markdown",
   "metadata": {},
   "source": [
    "The model is defined by the Hamiltonian:\n",
    "\n",
    "\\begin{equation}\n",
    "        \\hat{H}(t) = \\hat{H}_0 + f(t)\\hat{V}\n",
    "\\end{equation}\n",
    "where the time-independent part is given by:\n",
    "\\begin{equation}\n",
    "        \\hat{H}_0 = D\\bigg[\\hat{S}_z^2 - \\frac{1}{3}S(S + 1)\\bigg] + E[\\hat{S}_x^2 - \\hat{S}_y^2] - g\\mu_B\\hat{\\vec{S}}\\cdot\\vec{H}\n",
    "\\end{equation}\n",
    "and the time-dependent part is:\n",
    "\\begin{equation}\n",
    "        \\hat{H}(t) = \\hat{H}_0 + f(t)\\hat{V}\n",
    "\\end{equation}\n",
    "The perturbation is a magnetic field:\n",
    "\\begin{equation}\n",
    "        \\hat{V} = -g\\mu_B\\hat{\\vec{S}}\\cdot\\vec{H}_m \n",
    "\\end{equation}"
   ]
  },
  {
   "cell_type": "markdown",
   "metadata": {},
   "source": [
    "In this case:\n",
    "\n",
    "* $S = 7/2$\n",
    "\n",
    "* $D$ = 1281 MHz\n",
    "\n",
    "* $E$ = 294 MHz\n",
    "\n",
    "* $\\vec{H} = (0.15, 0.0, 0.0)$ T\n",
    "\n",
    "* $\\vec{H}_m = (0, 0.001, 0.0)$ T"
   ]
  },
  {
   "cell_type": "code",
   "execution_count": null,
   "metadata": {},
   "outputs": [],
   "source": [
    "S = 7/2 # spin\n",
    "E = 294 # value in MHz\n",
    "D = 1281 # value in MHz\n",
    "dim = int(2*S + 1) #matrix dim"
   ]
  },
  {
   "cell_type": "code",
   "execution_count": null,
   "metadata": {},
   "outputs": [],
   "source": [
    "H = np.array([0.15, 0, 0.0], dtype = float) #magnetic field in T\n",
    "H_m = np.array([0, 0.001, 0], dtype = float) #only in presence of perturbation (T)\n",
    "\n",
    "H0 = GdW30.hGdW30(D, E, H)\n",
    "V = GdW30.vGdW30(H_m)"
   ]
  },
  {
   "cell_type": "markdown",
   "metadata": {},
   "source": [
    "The code will work in the basis of eigenstates of the $\\hat{H}_0$:\n",
    "\\begin{equation}\n",
    "\\hat{H}_0\\vert\\psi_i\\rangle = \\varepsilon_i \\vert\\psi_i\\rangle\n",
    "\\end{equation}\n",
    "The characteristic frequencies are the energy differences:\n",
    "\\begin{equation}\n",
    "\\omega_i = \\varepsilon_{i+1}-\\varepsilon_{i}.\n",
    "\\end{equation}\n",
    "(we only consider the frequencies between neighbour energies)."
   ]
  },
  {
   "cell_type": "code",
   "execution_count": null,
   "metadata": {},
   "outputs": [],
   "source": [
    "eigenvalues, eigenstates = H0.eigenstates()\n",
    "H0 = H0.transform(eigenstates) - eigenvalues[0]\n",
    "V = V.transform(eigenstates)\n",
    "H0 = 0.5 * (H0 + H0.dag())\n",
    "V = 0.5 *(V + V.dag())"
   ]
  },
  {
   "cell_type": "code",
   "execution_count": null,
   "metadata": {},
   "outputs": [],
   "source": [
    "# In principle, we could just use V with the recently obtained eigenstates. Unfortunately, that\n",
    "# would make the test results different in different computers, as the eigenstates can have different phases.\n",
    "# Therefore, we use the V that was computed once, and stored in file \"V\". The commented code was used\n",
    "# to generate and store V.\n",
    "#V = V.transform(eigenstates)\n",
    "#fileio.file_data_store(\"V\", V, numformat = 'exp')\n",
    "V = Qobj(fileio.file_data_read(\"V\"))"
   ]
  },
  {
   "cell_type": "code",
   "execution_count": null,
   "metadata": {},
   "outputs": [],
   "source": [
    "H = hamiltonians.hamiltonian(H0, [V])"
   ]
  },
  {
   "cell_type": "code",
   "execution_count": null,
   "metadata": {},
   "outputs": [],
   "source": [
    "Sx = jmat(S, \"x\")\n",
    "Sy = jmat(S, \"y\")\n",
    "Sz = jmat(S, \"z\")\n",
    "Sp = (Sx + (1j*Sy))\n",
    "Sm = (Sx - (1j*Sy))"
   ]
  },
  {
   "cell_type": "code",
   "execution_count": null,
   "metadata": {},
   "outputs": [],
   "source": [
    "# w holds the energy differences, i.e. the natural frequencies of the system.\n",
    "w = np.zeros(dim-1)\n",
    "tau = np.zeros(dim-1)\n",
    "for i in range(dim - 1):\n",
    "    w[i] = eigenvalues[i+1] - eigenvalues[i] #in MHz\n",
    "    tau[i] = 2.0*np.pi/w[i]\n",
    "    print(\"Period[{:d}] = {:f}\".format(i, tau[i]))"
   ]
  },
  {
   "cell_type": "markdown",
   "metadata": {},
   "source": [
    "We will set the maximum time to a number of times (20, in this case) the maximum characteristic period."
   ]
  },
  {
   "cell_type": "code",
   "execution_count": null,
   "metadata": {},
   "outputs": [],
   "source": [
    "T = tau.max()*20\n",
    "print('T = {0:f} ns ({1:f} in code time)'.format(1000.0*T/(2.0*np.pi), T))"
   ]
  },
  {
   "cell_type": "markdown",
   "metadata": {},
   "source": [
    "# Control function"
   ]
  },
  {
   "cell_type": "markdown",
   "metadata": {},
   "source": [
    "The control function is parametrized with the Fourier expansion as follow:\n",
    "\\begin{equation}\n",
    "    f(u, t) = \\frac{1}{\\sqrt{T}}u_0 + \\frac{2}{\\sqrt{T}}\\sum_{k = 1}^{M}u_{2k}\\cos(\\omega_kt) + \\frac{2}{\\sqrt{T}}\\sum_{k = 1}^{M}u_{2k + 1}\\sin(\\omega_kt),\n",
    "\\end{equation}\n",
    "where $u_0\\dots u_{2M + 1}$ are the control parameters. This way, we can compute the derivate respect any control parameter as\n",
    "\\begin{equation}\n",
    "    \\frac{\\partial f}{\\partial u_m}(u, t) = f(e_m, t),\n",
    "\\end{equation}\n",
    "where $e_m$ is the set of parameters where all of them are zero except the m-th ane, that is equal to one.\n",
    "\n",
    "This pulse parametrization is included in the typical_pulses.py file as pulse class."
   ]
  },
  {
   "cell_type": "markdown",
   "metadata": {},
   "source": [
    "We will define a time grid to do all the following calculations. We choose a small discretization to ensure that the gradient calculations are performed at good precision."
   ]
  },
  {
   "cell_type": "code",
   "execution_count": null,
   "metadata": {},
   "outputs": [],
   "source": [
    "time = math_extra.timegrid(H0, T, 5.0)\n",
    "print(\"tau/dt = {:f}\".format(tau.min()/(time[1]-time[0])))"
   ]
  },
  {
   "cell_type": "markdown",
   "metadata": {},
   "source": [
    "Now, we define our parametrized pulse."
   ]
  },
  {
   "cell_type": "code",
   "execution_count": null,
   "metadata": {},
   "outputs": [],
   "source": [
    "maxhval = 20.0\n",
    "kappa = maxhval*np.sqrt(T)/2.0"
   ]
  },
  {
   "cell_type": "code",
   "execution_count": null,
   "metadata": {},
   "outputs": [],
   "source": [
    "max_frecuency = 8000 #in MHz\n",
    "M = int(T*max_frecuency/(2*np.pi)) #fourier serie terms\n",
    "print(\"Number of coefficients = {:d}\".format(2*M+1))\n",
    "#u = np.random.uniform(low = -1.0, high = 1.0, size = 2*M+1)\n",
    "u = np.zeros(2*M+1)\n",
    "u[1] = kappa/2.0\n",
    "f = pulses.pulse(\"fourier\", T, u = u)"
   ]
  },
  {
   "cell_type": "markdown",
   "metadata": {},
   "source": [
    "In principle, we could start from the pulse that we have just defined, or set the parameters to a random value. We could also start from a pi-pulse tuned to the $\\vert 6 \\rangle \\to \\vert 7\\rangle$ transition, which is the relevant transition in the Toffoli gate. In the following cell, if `pipulse = True`, that is exactly what is done.\n",
    "\n",
    "However, what we will do in the testsuite is to read the parameters obtained in a previous run, that were already optimized. In this way the notebook runs faster."
   ]
  },
  {
   "cell_type": "code",
   "execution_count": null,
   "metadata": {},
   "outputs": [],
   "source": [
    "pipulse = False\n",
    "if pipulse:\n",
    "    reftransition = 6\n",
    "    amp = np.pi/(T*abs(V.data[reftransition, reftransition+1]))\n",
    "    frefvals = np.zeros_like(time)\n",
    "    for i in range(time.size):\n",
    "        frefvals[i] = pulses.pi_pulse(time[i], np.array([amp, w[reftransition], 0.0, T]))\n",
    "\n",
    "    optu = f.fitparams(frefvals, time, u)\n",
    "    u[:] = optu[:]\n",
    "else:\n",
    "    u = np.loadtxt('optimal-pulse.csv', delimiter = ' ')"
   ]
  },
  {
   "cell_type": "markdown",
   "metadata": {},
   "source": [
    "# QOCT target function definition"
   ]
  },
  {
   "cell_type": "markdown",
   "metadata": {},
   "source": [
    "Let us now attempt these transitions with QOCT pulses. Let us just try the Toffoli gate"
   ]
  },
  {
   "cell_type": "code",
   "execution_count": null,
   "metadata": {},
   "outputs": [],
   "source": [
    "U_target = Qobj(toffoli().data)\n",
    "U_0 = qeye(dim)"
   ]
  },
  {
   "cell_type": "code",
   "execution_count": null,
   "metadata": {},
   "outputs": [],
   "source": [
    "def FU(U, u):\n",
    "    return (1/dim**2) * (np.absolute(math_extra.frobenius_product(U_target, U)))**2\n",
    "\n",
    "def dFdU(U, u):\n",
    "    return (1/dim**2) * math_extra.frobenius_product(U_target,U)*U_target"
   ]
  },
  {
   "cell_type": "markdown",
   "metadata": {},
   "source": [
    "# Nonlinear constraints"
   ]
  },
  {
   "cell_type": "markdown",
   "metadata": {},
   "source": [
    "If needded, one can make the pulse to have a null value at initial time and T. In other words:\n",
    "\\begin{equation}\n",
    "    f(u, 0) = f(u, T) = 0\n",
    "\\end{equation}\n",
    "Knowing that $\\sin(\\omega_n 0) = \\sin(\\omega_n T) = 0$ and $\\cos(\\omega_n 0) = \\cos(\\omega_n T) = 1$ we need the control parameters to satisfy the following expresion:\n",
    "\\begin{equation}\n",
    "    u_0 + 2\\sum_{k = 1}^{M}u_{2k} = 0\\ .\n",
    "\\end{equation}\n",
    "We will also enforce that the average amplitude is zero,\n",
    "\\begin{equation}\n",
    "\\int_0^T\\!{\\rm d}t\\;f(u, t) = 0\n",
    "\\end{equation}\n",
    "which is enforced by:\n",
    "\\begin{equation}\n",
    "u_0 = 0\n",
    "\\end{equation}\n",
    "\n",
    "This can be done with the nonlinear equality constraints option in Nlopt package, having in mind that not all algorithms can use this function. In fact, of the algorithms that use gradient, only the LD_SLSQP seems to be able to handle generic constraints. The previous constraints are set by defining the functions:\n",
    "\\begin{equation}\n",
    "g_1(u) = \\sum_{k=1}^M u_{2k}\n",
    "\\end{equation}\n",
    "and\n",
    "\\begin{equation}\n",
    "g_2(u) = u_0\n",
    "\\end{equation}"
   ]
  },
  {
   "cell_type": "code",
   "execution_count": null,
   "metadata": {},
   "outputs": [],
   "source": [
    "f.set_constraint('zero_boundaries')\n",
    "f.set_constraint('zero_average')"
   ]
  },
  {
   "cell_type": "markdown",
   "metadata": {},
   "source": [
    "Moreover, we will set inequality constraints: we want the coefficients of each individual term in the Fourier expansion to be not larger than some reasonable experimental value. For example, let us suppose that we do not want the amplitudes to be larger than 10 mT"
   ]
  },
  {
   "cell_type": "markdown",
   "metadata": {},
   "source": [
    "# Gradient check"
   ]
  },
  {
   "cell_type": "code",
   "execution_count": null,
   "metadata": {},
   "outputs": [],
   "source": [
    "tg = target.Target('evolutionoperator', Utarget = U_target)"
   ]
  },
  {
   "cell_type": "code",
   "execution_count": null,
   "metadata": {},
   "outputs": [],
   "source": [
    "opt = qoct.Qoct(H, T, time.shape[0], tg, f, U_0,\n",
    "                interaction_picture = True,\n",
    "                solve_method= 'cfmagnus4')"
   ]
  },
  {
   "cell_type": "code",
   "execution_count": null,
   "metadata": {},
   "outputs": [],
   "source": [
    "derqoct, dernum, error = opt.check_grad(u, 3)\n",
    "print(\"QOCT calculation: \\t{}\".format(derqoct))\n",
    "print(\"Ridders calculation: \\t{} +- {}\".format(dernum, error))"
   ]
  },
  {
   "cell_type": "markdown",
   "metadata": {},
   "source": [
    "# Optimization"
   ]
  },
  {
   "cell_type": "code",
   "execution_count": null,
   "metadata": {},
   "outputs": [],
   "source": [
    "x, optval, res = opt.maximize(maxeval = 200, stopval = 0.99, verbose = True,\n",
    "                              algorithm = nlopt.LD_SLSQP, \n",
    "                              upper_bounds = kappa * np.ones_like(u),\n",
    "                              lower_bounds = -kappa * np.ones_like(u))"
   ]
  },
  {
   "cell_type": "code",
   "execution_count": null,
   "metadata": {},
   "outputs": [],
   "source": [
    "f.set_parameters(x)\n",
    "result = solvers.solve(\"cfmagnus4\", H0, V, f, U_0, time, interaction_picture = True)\n",
    "print(\"Final optimized fidelity = {:f}\".format(FU(result.states[-1], x)))"
   ]
  },
  {
   "cell_type": "code",
   "execution_count": null,
   "metadata": {},
   "outputs": [],
   "source": [
    "u = x.copy()"
   ]
  },
  {
   "cell_type": "code",
   "execution_count": null,
   "metadata": {},
   "outputs": [],
   "source": [
    "if pipulse:\n",
    "    np.savetxt('optimal-pulse.csv', x, delimiter = ' ')"
   ]
  },
  {
   "cell_type": "markdown",
   "metadata": {},
   "source": [
    "# Fidelity check"
   ]
  },
  {
   "cell_type": "code",
   "execution_count": null,
   "metadata": {},
   "outputs": [],
   "source": [
    "def transformedstates(rho0):\n",
    "    rhoT = []\n",
    "    for j in range(len(rho0)):\n",
    "        rhoT.append(U_target * rho0[j] * U_target.dag())\n",
    "    return rhoT"
   ]
  },
  {
   "cell_type": "code",
   "execution_count": null,
   "metadata": {},
   "outputs": [],
   "source": [
    "rho_ini = math_extra.dmset(dim, dim+1)\n",
    "rho_target = transformedstates(rho_ini)\n",
    "D = len(rho_ini)\n",
    "nrm = np.zeros(D)\n",
    "for j in range(D):\n",
    "    nrm[j] = (rho_ini[j].dag() * rho_ini[j]).tr()"
   ]
  },
  {
   "cell_type": "code",
   "execution_count": null,
   "metadata": {},
   "outputs": [],
   "source": [
    "A = 0.10 * Sp"
   ]
  },
  {
   "cell_type": "code",
   "execution_count": null,
   "metadata": {},
   "outputs": [],
   "source": [
    "rhoT=[]\n",
    "for i in range (D):\n",
    "    rhoT.append(solvers.solve('cfmagnus4', H0, V, f, rho_ini[i], time,\n",
    "                returnQoutput = True, interaction_picture = True, cops=[A]).states[-1])"
   ]
  },
  {
   "cell_type": "code",
   "execution_count": null,
   "metadata": {},
   "outputs": [],
   "source": [
    "print(math_extra.infidelity(U_target, rho_ini, rhoT))"
   ]
  },
  {
   "cell_type": "markdown",
   "metadata": {},
   "source": [
    "# Optimization with Lindblad equation"
   ]
  },
  {
   "cell_type": "code",
   "execution_count": null,
   "metadata": {},
   "outputs": [],
   "source": [
    "def Tfunction(rho):\n",
    "    sum = 0\n",
    "    for i in range(D):\n",
    "        sum += (rho[i] * rho_target[i]).tr() / (D * nrm[i])\n",
    "    return np.real(sum)\n",
    "\n",
    "def Frhou(rho, u): # Total function to maximize\n",
    "    # Input: Array de rho's y array de parametros\n",
    "    # Output: F(rho,u)\n",
    "    return Tfunction(rho) #+ Pfunction(u))\n",
    "\n",
    "def dFdrho(rho, u):\n",
    "    # Input: Array de rho's\n",
    "    # Output: Array de dF/drho_i\n",
    "    aux=[]\n",
    "    for i in range (D):\n",
    "        aux.append(0.5 * rho_target[i] / (D*nrm[i]))\n",
    "    return aux\n",
    "\n",
    "def dFdu(u, m):\n",
    "    return 0"
   ]
  },
  {
   "cell_type": "code",
   "execution_count": null,
   "metadata": {},
   "outputs": [],
   "source": [
    "tg = target.Target('generic', Fyu = Frhou, dFdy = dFdrho, dFdu = dFdu)"
   ]
  },
  {
   "cell_type": "code",
   "execution_count": null,
   "metadata": {},
   "outputs": [],
   "source": [
    "H = hamiltonians.hamiltonian(H0, [V], [A])"
   ]
  },
  {
   "cell_type": "code",
   "execution_count": null,
   "metadata": {},
   "outputs": [],
   "source": [
    "opt = qoct.Qoct(H, T, time.shape[0], tg, f, rho_ini,\n",
    "                interaction_picture = True,\n",
    "                solve_method = 'cfmagnus4')"
   ]
  },
  {
   "cell_type": "code",
   "execution_count": null,
   "metadata": {},
   "outputs": [],
   "source": [
    "derqoct, dernum, error = opt.check_grad(u, 3)\n",
    "print(\"QOCT calculation: \\t{}\".format(derqoct))\n",
    "print(\"Ridders calculation: \\t{} +- {}\".format(dernum, error))"
   ]
  },
  {
   "cell_type": "code",
   "execution_count": null,
   "metadata": {},
   "outputs": [],
   "source": [
    "x, optval, res = opt.maximize(maxeval = 100, stopval = 0.99, verbose = True,\n",
    "                              algorithm = nlopt.LD_SLSQP, \n",
    "                              upper_bounds = kappa * np.ones_like(u),\n",
    "                              lower_bounds = -kappa * np.ones_like(u))\n",
    "data.append(optval)"
   ]
  },
  {
   "cell_type": "markdown",
   "metadata": {},
   "source": [
    "# Datafile"
   ]
  },
  {
   "cell_type": "code",
   "execution_count": null,
   "metadata": {},
   "outputs": [],
   "source": [
    "with open(\"data\", \"w\") as f:\n",
    "    for i in data:\n",
    "        f.write(\"{:.14e}\\n\".format(i))"
   ]
  }
 ],
 "metadata": {
  "kernelspec": {
   "display_name": "Python 3",
   "language": "python",
   "name": "python3"
  },
  "language_info": {
   "codemirror_mode": {
    "name": "ipython",
    "version": 3
   },
   "file_extension": ".py",
   "mimetype": "text/x-python",
   "name": "python",
   "nbconvert_exporter": "python",
   "pygments_lexer": "ipython3"
  }
 },
 "nbformat": 4,
 "nbformat_minor": 2
}
