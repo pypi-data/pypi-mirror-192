{
 "cells": [
  {
   "attachments": {},
   "cell_type": "markdown",
   "metadata": {},
   "source": [
    "# Sign up and Sign in"
   ]
  },
  {
   "cell_type": "code",
   "execution_count": null,
   "metadata": {},
   "outputs": [],
   "source": [
    "from lnhub_rest._clean_ci import delete_ci_accounts\n",
    "from lnhub_rest._signup_signin import sign_up_hub\n",
    "from lnhub_rest._signup_signin import sign_in_hub\n",
    "import jwt\n",
    "import string, secrets"
   ]
  },
  {
   "cell_type": "code",
   "execution_count": null,
   "metadata": {},
   "outputs": [],
   "source": [
    "def base26(n_char: int):\n",
    "    alphabet = string.ascii_lowercase\n",
    "    return \"\".join(secrets.choice(alphabet) for i in range(n_char))"
   ]
  },
  {
   "attachments": {},
   "cell_type": "markdown",
   "metadata": {},
   "source": [
    "## Call `sign_up_hub`"
   ]
  },
  {
   "cell_type": "code",
   "execution_count": null,
   "metadata": {},
   "outputs": [],
   "source": [
    "non_existing_account_email = f\"lamin.ci.user.{base26(6)}@gmail.com\""
   ]
  },
  {
   "cell_type": "code",
   "execution_count": null,
   "metadata": {},
   "outputs": [],
   "source": [
    "non_existing_account_password = sign_up_hub(non_existing_account_email)"
   ]
  },
  {
   "cell_type": "code",
   "execution_count": null,
   "metadata": {},
   "outputs": [],
   "source": [
    "assert len(non_existing_account_password) == 40"
   ]
  },
  {
   "attachments": {},
   "cell_type": "markdown",
   "metadata": {},
   "source": [
    "## Call `sign_up_hub` on existing account"
   ]
  },
  {
   "cell_type": "code",
   "execution_count": null,
   "metadata": {},
   "outputs": [],
   "source": [
    "existing_account_email = f\"testuser1@lamin.ai\""
   ]
  },
  {
   "cell_type": "code",
   "execution_count": null,
   "metadata": {},
   "outputs": [],
   "source": [
    "assert sign_up_hub(existing_account_email) == \"user-exists\""
   ]
  },
  {
   "attachments": {},
   "cell_type": "markdown",
   "metadata": {},
   "source": [
    "## Call `sign_in_hub`"
   ]
  },
  {
   "cell_type": "code",
   "execution_count": null,
   "metadata": {},
   "outputs": [],
   "source": [
    "user_id, user_handle, user_name, access_token = sign_in_hub(\n",
    "    existing_account_email, password=\"cEvcwMJFX4OwbsYVaMt2Os6GxxGgDUlBGILs2RyS\"\n",
    ")\n",
    "session_payload = jwt.decode(\n",
    "    access_token, algorithms=\"HS256\", options={\"verify_signature\": False}\n",
    ")\n",
    "\n",
    "assert user_id == \"DzTjkKse\"\n",
    "assert user_handle == \"testuser1\"\n",
    "assert user_name == \"Test User1\"\n",
    "assert session_payload[\"email\"] == \"testuser1@lamin.ai\""
   ]
  },
  {
   "attachments": {},
   "cell_type": "markdown",
   "metadata": {},
   "source": [
    "## Call `sign_in_hub` on a non completed signup account"
   ]
  },
  {
   "cell_type": "code",
   "execution_count": null,
   "metadata": {},
   "outputs": [],
   "source": [
    "# Should be \"complete-signup\" but seems not possible to sign if sign up not completed\n",
    "assert (\n",
    "    sign_in_hub(non_existing_account_email, password=non_existing_account_password)\n",
    "    == \"could-not-login\"\n",
    ")"
   ]
  },
  {
   "attachments": {},
   "cell_type": "markdown",
   "metadata": {},
   "source": [
    "## Call `sign_in_hub` on a non existing account"
   ]
  },
  {
   "cell_type": "code",
   "execution_count": null,
   "metadata": {},
   "outputs": [],
   "source": [
    "assert (\n",
    "    sign_in_hub(\"non-existing-email@gmail.com\", password=\"non-existing-password\")\n",
    "    == \"could-not-login\"\n",
    ")"
   ]
  },
  {
   "attachments": {},
   "cell_type": "markdown",
   "metadata": {},
   "source": [
    "## Clean up accounts"
   ]
  },
  {
   "attachments": {},
   "cell_type": "markdown",
   "metadata": {},
   "source": [
    "The following cleans up all accounts including those from failed CI runs."
   ]
  },
  {
   "cell_type": "code",
   "execution_count": null,
   "metadata": {},
   "outputs": [],
   "source": [
    "delete_ci_accounts()"
   ]
  },
  {
   "cell_type": "code",
   "execution_count": null,
   "metadata": {},
   "outputs": [],
   "source": []
  }
 ],
 "metadata": {
  "kernelspec": {
   "display_name": "base",
   "language": "python",
   "name": "python3"
  },
  "language_info": {
   "codemirror_mode": {
    "name": "ipython",
    "version": 3
   },
   "file_extension": ".py",
   "mimetype": "text/x-python",
   "name": "python",
   "nbconvert_exporter": "python",
   "pygments_lexer": "ipython3",
   "version": "3.9.13"
  },
  "vscode": {
   "interpreter": {
    "hash": "2841734f87827db3a7b3181a6051fe720e9968e703956c2bd6988b5a29362801"
   }
  }
 },
 "nbformat": 4,
 "nbformat_minor": 4
}
