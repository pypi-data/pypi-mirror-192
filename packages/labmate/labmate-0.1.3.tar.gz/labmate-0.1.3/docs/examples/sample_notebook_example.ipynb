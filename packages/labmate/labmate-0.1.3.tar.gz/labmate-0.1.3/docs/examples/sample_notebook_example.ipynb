{
 "cells": [
  {
   "cell_type": "code",
   "execution_count": 1,
   "metadata": {},
   "outputs": [
    {
     "name": "stdout",
     "output_type": "stream",
     "text": [
      "Kernel is started\n"
     ]
    }
   ],
   "source": [
    "%load_ext autoreload\n",
    "%autoreload 2\n",
    "\n",
    "import smart_import\n",
    "\n",
    "import numpy as np\n",
    "from labmate.acquisition_utils import AcquisitionManager, AnalysisManager"
   ]
  },
  {
   "cell_type": "code",
   "execution_count": 2,
   "metadata": {},
   "outputs": [],
   "source": [
    "aqm = AcquisitionManager('tmp_data')\n",
    "aqd = aqm.create_new_acquisition(\"test\")"
   ]
  },
  {
   "cell_type": "code",
   "execution_count": 3,
   "metadata": {},
   "outputs": [],
   "source": [
    "aqd.y = 3"
   ]
  },
  {
   "cell_type": "code",
   "execution_count": 4,
   "metadata": {},
   "outputs": [
    {
     "data": {
      "text/plain": [
       "AnalysisManager (rw): \n",
       " {\n",
       "    \"cell\": \"variable of type NoneType\",\n",
       "    \"configs\" (r): \"variable of type dict\",\n",
       "    \"y\" (r): \"3 (type : int64)\"\n",
       "}"
      ]
     },
     "execution_count": 4,
     "metadata": {},
     "output_type": "execute_result"
    }
   ],
   "source": [
    "data = AnalysisManager(aqm.current_filepath)\n",
    "data"
   ]
  },
  {
   "cell_type": "code",
   "execution_count": null,
   "metadata": {},
   "outputs": [],
   "source": []
  }
 ],
 "metadata": {
  "kernelspec": {
   "display_name": "phd_mask",
   "language": "python",
   "name": "python3"
  },
  "language_info": {
   "codemirror_mode": {
    "name": "ipython",
    "version": 3
   },
   "file_extension": ".py",
   "mimetype": "text/x-python",
   "name": "python",
   "nbconvert_exporter": "python",
   "pygments_lexer": "ipython3",
   "version": "3.10.0"
  },
  "orig_nbformat": 4,
  "vscode": {
   "interpreter": {
    "hash": "a3a6fc72abd763eb125834065b6047171dc313ddda04b6b04a8b85b371691e10"
   }
  }
 },
 "nbformat": 4,
 "nbformat_minor": 2
}
