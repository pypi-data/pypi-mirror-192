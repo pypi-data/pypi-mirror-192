{
 "cells": [
  {
   "cell_type": "code",
   "execution_count": 1,
   "id": "7da4953c-7143-4932-8db8-946d647f7c68",
   "metadata": {},
   "outputs": [],
   "source": [
    "from xcube.webapi.viewer import Viewer\n",
    "import xarray as xr"
   ]
  },
  {
   "cell_type": "code",
   "execution_count": 2,
   "id": "51c02ca2-a19a-4dfc-927e-4a2cb931a953",
   "metadata": {},
   "outputs": [],
   "source": [
    "viewer = Viewer()"
   ]
  },
  {
   "cell_type": "code",
   "execution_count": 3,
   "id": "ae111626-98e6-4d69-bf92-e67a59b3cbaa",
   "metadata": {},
   "outputs": [
    {
     "data": {
      "text/plain": [
       "'0048aaf0-59a4-430f-8fa0-c31b5c46a466'"
      ]
     },
     "execution_count": 3,
     "metadata": {},
     "output_type": "execute_result"
    }
   ],
   "source": [
    "esdc = xr.open_dataset(\"s3://esdl-esdc-v2.1.1/esdc-8d-0.25deg-1x720x1440-2.1.1.zarr\", engine=\"zarr\")\n",
    "viewer.add_dataset(esdc, title=\"ESDC 2.1.1\")"
   ]
  },
  {
   "cell_type": "code",
   "execution_count": 4,
   "id": "a677e531-2204-49ee-8adb-f4fb2b61aacd",
   "metadata": {},
   "outputs": [
    {
     "name": "stdout",
     "output_type": "stream",
     "text": [
      "Server: http://localhost:8000\n",
      "Viewer: http://localhost:8000/viewer/?serverUrl=http://localhost:8000\n"
     ]
    }
   ],
   "source": [
    "viewer.info()"
   ]
  },
  {
   "cell_type": "code",
   "execution_count": 5,
   "id": "c03a6912-9879-4b7e-a2c9-25c141a548fb",
   "metadata": {},
   "outputs": [
    {
     "data": {
      "text/html": [
       "<iframe src=\"http://localhost:8000/viewer/?serverUrl=http://localhost:8000&compact=1\" width=\"100%\" height=\"800\"/>"
      ],
      "text/plain": [
       "<IPython.core.display.HTML object>"
      ]
     },
     "execution_count": 5,
     "metadata": {},
     "output_type": "execute_result"
    }
   ],
   "source": [
    "viewer.show()"
   ]
  },
  {
   "cell_type": "code",
   "execution_count": 6,
   "id": "99a3f409-85d3-46cf-96b3-0113abee5910",
   "metadata": {},
   "outputs": [
    {
     "name": "stdout",
     "output_type": "stream",
     "text": [
      "Server: http://localhost:8000\n",
      "Viewer: http://localhost:8000/viewer/?serverUrl=http://localhost:8000\n"
     ]
    },
    {
     "name": "stderr",
     "output_type": "stream",
     "text": [
      "404 GET /viewer/config/config.json (127.0.0.1) 0.50ms\n",
      "C:\\Users\\norma\\miniconda3\\envs\\xcube\\lib\\site-packages\\xarray\\core\\indexes.py:205: FutureWarning: Indexing a timezone-naive DatetimeIndex with a timezone-aware datetime is deprecated and will raise KeyError in a future version.  Use a timezone-naive object instead.\n",
      "  indexer = index.slice_indexer(\n",
      "C:\\Users\\norma\\miniconda3\\envs\\xcube\\lib\\site-packages\\xarray\\core\\indexes.py:205: FutureWarning: Indexing a timezone-naive DatetimeIndex with a timezone-aware datetime is deprecated and will raise KeyError in a future version.  Use a timezone-naive object instead.\n",
      "  indexer = index.slice_indexer(\n",
      "2023-01-17 13:34:02,648 - tornado.access - WARNING - 404 GET /viewer/static/js/2.f6c87e73.chunk.js.map (127.0.0.1) 0.50ms\n",
      "2023-01-17 13:34:02,650 - tornado.access - WARNING - 404 GET /viewer/static/js/main.6d329366.chunk.js.map (127.0.0.1) 0.50ms\n"
     ]
    }
   ],
   "source": [
    "viewer.info()"
   ]
  },
  {
   "cell_type": "code",
   "execution_count": null,
   "id": "765e29e6-a10c-4096-8086-dce280130be5",
   "metadata": {},
   "outputs": [],
   "source": []
  }
 ],
 "metadata": {
  "kernelspec": {
   "display_name": "Python 3 (ipykernel)",
   "language": "python",
   "name": "python3"
  },
  "language_info": {
   "codemirror_mode": {
    "name": "ipython",
    "version": 3
   },
   "file_extension": ".py",
   "mimetype": "text/x-python",
   "name": "python",
   "nbconvert_exporter": "python",
   "pygments_lexer": "ipython3",
   "version": "3.9.13"
  }
 },
 "nbformat": 4,
 "nbformat_minor": 5
}
