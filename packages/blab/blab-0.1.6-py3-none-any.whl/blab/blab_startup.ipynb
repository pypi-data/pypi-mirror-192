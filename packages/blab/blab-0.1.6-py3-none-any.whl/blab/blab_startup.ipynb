{
 "cells": [
  {
   "cell_type": "markdown",
   "metadata": {},
   "source": [
    "## Usage\n",
    "Put this code in the first cell of your notebook:\n",
    "```\n",
    "# blab init\n",
    "try:\n",
    "    import blab\n",
    "except ImportError as e:\n",
    "    !pip install blab\n",
    "    import blab    \n",
    "startup_notebook = blab.blab_startup()\n",
    "%run $startup_notebook  \n",
    "```\n",
    "\n",
    "## Features\n",
    "* Finds a local folder named `libs` and integrates it into the Python path. Useful for your own private libraries.\n",
    "* creates `environment` dictionary\n",
    "* loads `autoreload` \n",
    "* loads `ipytest`\n",
    "* configures `%matplotlib inline`\n",
    "* Tool: `run_notebooks`: Starts all notebooks in the directory in alphabetical order\n",
    "* Tool: `search_notebooks`: Searches notebooks for occurrences of a string (wrapper for nbconvert)\n",
    "* Tool: `raise Stop`: Ends the execution of a notebook and displays the elapsed time\n",
    "* Tool: `bgc('orange')`: Sets the backbround color of a notebook cell (does not work in colab)"
   ]
  },
  {
   "cell_type": "code",
   "execution_count": 2,
   "metadata": {},
   "outputs": [
    {
     "name": "stdout",
     "output_type": "stream",
     "text": [
      "blab init\n"
     ]
    }
   ],
   "source": [
    "print('blab init') "
   ]
  },
  {
   "cell_type": "code",
   "execution_count": 3,
   "metadata": {},
   "outputs": [],
   "source": [
    "from time import sleep\n",
    "sleep(0.001)"
   ]
  },
  {
   "cell_type": "code",
   "execution_count": 4,
   "metadata": {},
   "outputs": [],
   "source": [
    "# environment Dictionary\n",
    "environment = dict()"
   ]
  },
  {
   "cell_type": "code",
   "execution_count": 5,
   "metadata": {},
   "outputs": [],
   "source": [
    "# in_colab\n",
    "try:\n",
    "    import google.colab\n",
    "    environment['in_colab'] = True \n",
    "except:\n",
    "    environment['in_colab'] = False \n",
    "print(\"environment['in_colab']     = \" +  str(environment['in_colab']))         "
   ]
  },
  {
   "cell_type": "code",
   "execution_count": 6,
   "metadata": {},
   "outputs": [
    {
     "name": "stdout",
     "output_type": "stream",
     "text": [
      "environment['dropbox_path'] = /home/me/Data_Linux/Dropbox\n"
     ]
    }
   ],
   "source": [
    "# try to find Dropbox parent folder, if running in a Dropbox directory\n",
    "import pathlib, os, sys\n",
    "p = pathlib.Path().resolve()\n",
    "\n",
    "# iterate parent dirs\n",
    "for n in range(10):\n",
    "    trypath = os.path.join( p, 'Dropbox')  # candidate for Dropbox\n",
    "    #print(trypath)\n",
    "\n",
    "    if os.path.isdir(trypath): # found  \n",
    "        print(\"environment['dropbox_path'] = \" +  trypath)\n",
    "        environment['dropbox_path'] = trypath  \n",
    "        break\n",
    "    else:\n",
    "        p = p.parent\n",
    "        \n",
    "    #print(n)"
   ]
  },
  {
   "cell_type": "code",
   "execution_count": 7,
   "metadata": {},
   "outputs": [
    {
     "name": "stdout",
     "output_type": "stream",
     "text": [
      "environment['lib_path']     = /home/me/Data_Linux/Dropbox/31_Projekte/01_Python/libs\n"
     ]
    }
   ],
   "source": [
    "# try to find local libs directory\n",
    "# and add it to sys.path\n",
    "\n",
    "import pathlib, os, sys\n",
    "p = pathlib.Path().resolve()\n",
    "\n",
    "# iterate parent dirs\n",
    "for n in range(10):\n",
    "    trypath = os.path.join( p, 'libs')  # candidate for libs-Path\n",
    "    #print(trypath)\n",
    "\n",
    "    if os.path.isdir(trypath): # found  \n",
    "        print(\"environment['lib_path']     = \" +  trypath)    \n",
    "        environment['lib_path'] = trypath\n",
    "        if trypath not in sys.path:\n",
    "            sys.path.append(trypath)     \n",
    "        break\n",
    "    else:\n",
    "        p = p.parent\n",
    "        \n",
    "    #print(n)"
   ]
  },
  {
   "cell_type": "code",
   "execution_count": 8,
   "metadata": {},
   "outputs": [
    {
     "name": "stdout",
     "output_type": "stream",
     "text": [
      "Start Time: 23:45:38\n"
     ]
    }
   ],
   "source": [
    "# https://stackoverflow.com/questions/24005221/ipython-notebook-early-exit-from-cell\n",
    "\n",
    "class Stop(Exception):\n",
    "    \n",
    "    '''\n",
    "    Ends the execution of a notebook and displays the elapsed time.\n",
    "    Usage: \n",
    "    raise Stop\n",
    "    '''\n",
    "    import datetime\n",
    "    # Zeit beim Start ausgeben\n",
    "    startzeit = datetime.datetime.now()\n",
    "    print('Start Time:', startzeit.strftime('%H:%M:%S') )    \n",
    "    \n",
    "    def _render_traceback_(self):\n",
    "        \n",
    "        # Zeit beim Stop ausgeben\n",
    "        stopzeit = datetime.datetime.now()\n",
    "        difference = stopzeit - Stop.startzeit\n",
    "        \n",
    "        print('Stop Time: ',  stopzeit.strftime('%H:%M:%S') )\n",
    "        print( 'Elapsed:   ', Stop.elapsed()    )   \n",
    "    \n",
    "         \n",
    "        bgc('DarkGray')\n",
    "        pass\n",
    "    \n",
    "    \n",
    "    def elapsed():\n",
    "        difference = datetime.datetime.now() - Stop.startzeit\n",
    "        return bpy.human_readable_seconds(difference.seconds) \n"
   ]
  },
  {
   "cell_type": "code",
   "execution_count": 9,
   "metadata": {},
   "outputs": [],
   "source": [
    "# blab direkt in den Namespace inportieren\n",
    "# (run_notebooks, search_notebooks)\n",
    "\n",
    "try:\n",
    "    from blab import *\n",
    "except:\n",
    "    pass"
   ]
  },
  {
   "cell_type": "code",
   "execution_count": 10,
   "metadata": {},
   "outputs": [],
   "source": [
    "# ipytest\n",
    "\n",
    "try:\n",
    "    import ipytest\n",
    "    ipytest.autoconfig()\n",
    "except:\n",
    "    pass\n",
    "sleep(0.001)"
   ]
  },
  {
   "cell_type": "code",
   "execution_count": 11,
   "metadata": {},
   "outputs": [],
   "source": [
    "# Ausgabe löschen\n",
    "from IPython.display         import clear_output\n",
    "\n",
    "sleep(0.001)"
   ]
  },
  {
   "cell_type": "code",
   "execution_count": 12,
   "metadata": {},
   "outputs": [],
   "source": [
    "# Hintergrundfarbe ändern\n",
    "# https://stackoverflow.com/questions/49429585/how-to-change-the-background-color-of-a-single-cell-in-a-jupyter-notebook-jupy\n",
    "from IPython.display import HTML, display\n",
    "\n",
    "def set_background(color):    \n",
    "    script = (\n",
    "        \"var cell = this.closest('.jp-CodeCell');\"\n",
    "        \"var editor = cell.querySelector('.jp-Editor');\"\n",
    "        \"editor.style.background='{}';\"\n",
    "        \"this.parentNode.removeChild(this)\"\n",
    "    ).format(color)\n",
    "\n",
    "    display(HTML('<img src onerror=\"{}\">'.format(script)))\n",
    "    \n",
    "from IPython.core.magic import register_cell_magic\n",
    "from IPython.display import HTML, display\n",
    "\n",
    "@register_cell_magic\n",
    "def bgc(color, cell=None):\n",
    "    script = (\n",
    "        \"var cell = this.closest('.jp-CodeCell');\"\n",
    "        \"var editor = cell.querySelector('.jp-Editor');\"\n",
    "        \"editor.style.background='{}';\"\n",
    "        \"this.parentNode.removeChild(this)\"\n",
    "    ).format(color)\n",
    "\n",
    "    display(HTML('<img src onerror=\"{}\">'.format(script)))    \n",
    "    \n",
    "sleep(0.001)    "
   ]
  },
  {
   "cell_type": "code",
   "execution_count": 13,
   "metadata": {},
   "outputs": [
    {
     "data": {
      "text/html": [
       "<img src onerror=\"var cell = this.closest('.jp-CodeCell');var editor = cell.querySelector('.jp-Editor');editor.style.background='Beige';this.parentNode.removeChild(this)\">"
      ],
      "text/plain": [
       "<IPython.core.display.HTML object>"
      ]
     },
     "metadata": {},
     "output_type": "display_data"
    }
   ],
   "source": [
    "# Test Hintergrundfarbe ändern\n",
    "bgc('Beige')\n",
    "bla = 'bla'*3\n",
    "\n",
    "sleep(0.001)"
   ]
  },
  {
   "cell_type": "code",
   "execution_count": 15,
   "metadata": {},
   "outputs": [
    {
     "name": "stdout",
     "output_type": "stream",
     "text": [
      "time: 12.4 ms\n"
     ]
    }
   ],
   "source": [
    "%%capture\n",
    "\n",
    "# autoreload  \n",
    "%load_ext autoreload\n",
    "%autoreload 2\n",
    "\n",
    "sleep(0.001)"
   ]
  },
  {
   "cell_type": "code",
   "execution_count": 16,
   "metadata": {},
   "outputs": [
    {
     "name": "stdout",
     "output_type": "stream",
     "text": [
      "time: 506 ms\n"
     ]
    }
   ],
   "source": [
    "%matplotlib inline"
   ]
  }
 ],
 "metadata": {
  "kernelspec": {
   "display_name": "Python 3 (ipykernel)",
   "language": "python",
   "name": "python3"
  },
  "language_info": {
   "codemirror_mode": {
    "name": "ipython",
    "version": 3
   },
   "file_extension": ".py",
   "mimetype": "text/x-python",
   "name": "python",
   "nbconvert_exporter": "python",
   "pygments_lexer": "ipython3",
   "version": "3.9.13"
  }
 },
 "nbformat": 4,
 "nbformat_minor": 4
}
