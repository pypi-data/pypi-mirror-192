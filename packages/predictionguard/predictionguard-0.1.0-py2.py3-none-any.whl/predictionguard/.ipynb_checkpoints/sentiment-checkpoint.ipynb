{
 "cells": [
  {
   "cell_type": "code",
   "execution_count": 1,
   "id": "ad0383a7",
   "metadata": {},
   "outputs": [],
   "source": [
    "from client import Client"
   ]
  },
  {
   "cell_type": "code",
   "execution_count": 2,
   "id": "dcab6eaa",
   "metadata": {},
   "outputs": [],
   "source": [
    "client = Client()"
   ]
  },
  {
   "cell_type": "code",
   "execution_count": 3,
   "id": "035d1957",
   "metadata": {},
   "outputs": [
    {
     "name": "stdout",
     "output_type": "stream",
     "text": [
      "Name                    Task       Status       Created At    Updated At    Failure Rate  GPUs\n",
      "----------------------  ---------  ---------  ------------  ------------  --------------  ------\n",
      "my-qa-proxy             qa         available    1674326888    1674326959               0  False\n",
      "test-client-sentiment1  sentiment  available    1675625442    1675625449               0  False\n"
     ]
    }
   ],
   "source": [
    "client.list_proxies()"
   ]
  },
  {
   "cell_type": "code",
   "execution_count": 4,
   "id": "9f70aeea",
   "metadata": {},
   "outputs": [],
   "source": [
    "examples = [\n",
    "    {\n",
    "        \"input\": {\n",
    "            \"phrase\": \"I'm so excited about Prediction Guard. It's gonna be awesome!\",\n",
    "        },\n",
    "        \"output\": {\n",
    "            \"sentiment\": \"POS\"\n",
    "        }\n",
    "    },\n",
    "    {\n",
    "        \"input\": {\n",
    "            \"phrase\": \"AI development without Prediction Guard sucks. It's really terrible.\"\n",
    "        },\n",
    "        \"output\": {\n",
    "            \"sentiment\": \"NEG\"\n",
    "        }\n",
    "    }\n",
    "]"
   ]
  },
  {
   "cell_type": "code",
   "execution_count": 5,
   "id": "eee978e6",
   "metadata": {},
   "outputs": [
    {
     "name": "stdout",
     "output_type": "stream",
     "text": [
      "Creating the proxy endpoint. Evaluating a bunch of SOTA models! -\n",
      "Proxy ready. 🎉     "
     ]
    }
   ],
   "source": [
    "client.create_proxy(task='sentiment', name='test-client-sentiment2', examples=examples)"
   ]
  },
  {
   "cell_type": "code",
   "execution_count": 6,
   "id": "de01711f",
   "metadata": {},
   "outputs": [
    {
     "name": "stdout",
     "output_type": "stream",
     "text": [
      "Name                    Task       Status       Created At    Updated At    Failure Rate  GPUs\n",
      "----------------------  ---------  ---------  ------------  ------------  --------------  ------\n",
      "my-qa-proxy             qa         available    1674326888    1674326959               0  False\n",
      "test-client-sentiment1  sentiment  available    1675625442    1675625449               0  False\n",
      "test-client-sentiment2  sentiment  available    1675625538    1675625558               0  False\n"
     ]
    }
   ],
   "source": [
    "client.list_proxies()"
   ]
  },
  {
   "cell_type": "code",
   "execution_count": 4,
   "id": "7c60bf2f",
   "metadata": {},
   "outputs": [
    {
     "data": {
      "text/plain": [
       "{'sentiment': 'POS'}"
      ]
     },
     "execution_count": 4,
     "metadata": {},
     "output_type": "execute_result"
    }
   ],
   "source": [
    "client.predict(name='test-client-sentiment2', data={\n",
    "    \"phrase\": \"Isn't this great! Sign up for the waitlist to get in on the fun.\"\n",
    "})"
   ]
  },
  {
   "cell_type": "code",
   "execution_count": null,
   "id": "afbf51f4",
   "metadata": {},
   "outputs": [],
   "source": []
  }
 ],
 "metadata": {
  "kernelspec": {
   "display_name": "Python 3 (ipykernel)",
   "language": "python",
   "name": "python3"
  },
  "language_info": {
   "codemirror_mode": {
    "name": "ipython",
    "version": 3
   },
   "file_extension": ".py",
   "mimetype": "text/x-python",
   "name": "python",
   "nbconvert_exporter": "python",
   "pygments_lexer": "ipython3",
   "version": "3.8.10"
  }
 },
 "nbformat": 4,
 "nbformat_minor": 5
}
