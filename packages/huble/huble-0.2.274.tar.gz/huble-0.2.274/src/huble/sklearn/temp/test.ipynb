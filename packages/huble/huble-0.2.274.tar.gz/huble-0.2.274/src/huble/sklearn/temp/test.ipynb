{
 "cells": [
  {
   "cell_type": "code",
   "execution_count": null,
   "metadata": {},
   "outputs": [],
   "source": [
    "!pip install huble==0.2.273"
   ]
  },
  {
   "cell_type": "code",
   "execution_count": null,
   "metadata": {},
   "outputs": [],
   "source": [
    "from huble import generate_experiment,Experiment\n",
    "experiment = generate_experiment(experiment_id=\"0ab6082a-f658-4064-b398-993367a7a76b\")"
   ]
  },
  {
   "cell_type": "code",
   "execution_count": null,
   "metadata": {},
   "outputs": [],
   "source": [
    "from output import run_experiment"
   ]
  },
  {
   "cell_type": "code",
   "execution_count": null,
   "metadata": {},
   "outputs": [],
   "source": [
    "run_experiment(experiment)"
   ]
  },
  {
   "cell_type": "code",
   "execution_count": 9,
   "metadata": {},
   "outputs": [],
   "source": [
    "def inference_pip(graph):\n",
    "    id = \"0\"\n",
    "    prediction_id = \"\"\n",
    "    for node in graph[\"nodes\"]:\n",
    "        if node[\"data\"][\"node_type\"] == \"primary_dataset\":\n",
    "            node[\"data\"][\"name\"] = \"Web API\"\n",
    "        elif node[\"data\"][\"name\"] == \"Train-Test Split\":\n",
    "            prediction_id = node[\"id\"]\n",
    "            node[\"data\"][\"name\"] = \"Predictions\"\n",
    "            node[\"data\"][\"value\"] = \"Predictions\"\n",
    "            node[\"data\"][\"inputParameters\"][\"types\"].append(\"Trained Model\")\n",
    "            node.pop(\"target\")\n",
    "            node[\"data\"].pop(\"outputParameters\")\n",
    "            node[\"data\"][\"color\"] = \"green.400\"\n",
    "        elif node[\"data\"][\"name\"] == \"Train Model\":\n",
    "            id = node[\"id\"]\n",
    "\n",
    "    for node in graph[\"nodes\"]:\n",
    "        if (\n",
    "            node[\"data\"][\"node_type\"] == \"classification_model\"\n",
    "            or node[\"data\"][\"node_type\"] == \"regression_model\"\n",
    "            or node[\"data\"][\"node_type\"] == \"clusterring_model\"\n",
    "        ):\n",
    "            # get node id and make an edge to predictions wala node\n",
    "            node[\"data\"][\"name\"] = \"Trained \" + node[\"data\"][\"name\"]\n",
    "            node[\"data\"][\"outputParameters\"][\"types\"] = [\"Trained Model\"]\n",
    "            node[\"data\"][\"color\"] = \"teal.600\"\n",
    "            graph[\"edges\"].append(\n",
    "                {\n",
    "                    \"source\": node[\"id\"],\n",
    "                    \"target\": prediction_id,\n",
    "                    \"sourceHandle\": \"output_0_Trained Model\",\n",
    "                    \"targetHandle\": \"input_1_Trained Model\",\n",
    "                    \"type\": \"custom\",\n",
    "                    \"id\": f\"reactflow_edge-{node['id']}output_0_Trained Model-{prediction_id}input_1_Trained Model\",\n",
    "                    \"data\": {\n",
    "                        \"sourceColor\": \"teal.600\",\n",
    "                        \"targetColor\": \"green.400\",\n",
    "                        \"target\": prediction_id+\"_input_1_Trained Model\",\n",
    "                        \"source\": node[\"id\"]+\"_output_0_Trained Model\",\n",
    "                    }\n",
    "                }\n",
    "            )\n",
    "\n",
    "    graph[\"edges\"] = [edge for edge in graph[\"edges\"] if edge[\"target\"] not in [\"998\", id]]\n",
    "    graph[\"nodes\"] = [\n",
    "        node\n",
    "        for node in graph[\"nodes\"]\n",
    "        if node[\"data\"][\"node_type\"]\n",
    "        in [\n",
    "            \"primary_dataset\",\n",
    "            \"preprocess\",\n",
    "            \"essential\",\n",
    "            \"classification_model\",\n",
    "            \"clusterring_model\",\n",
    "            \"regression_model\",\n",
    "        ]\n",
    "    ]\n",
    "\n",
    "    return graph\n"
   ]
  },
  {
   "cell_type": "code",
   "execution_count": null,
   "metadata": {},
   "outputs": [],
   "source": []
  }
 ],
 "metadata": {
  "kernelspec": {
   "display_name": "Python 3.8.8 ('huble-jmRcOqbb-py3.8')",
   "language": "python",
   "name": "python3"
  },
  "language_info": {
   "codemirror_mode": {
    "name": "ipython",
    "version": 3
   },
   "file_extension": ".py",
   "mimetype": "text/x-python",
   "name": "python",
   "nbconvert_exporter": "python",
   "pygments_lexer": "ipython3",
   "version": "3.8.8"
  },
  "orig_nbformat": 4,
  "vscode": {
   "interpreter": {
    "hash": "2bd4402ae2af66a9b9715c78fa165f8547e33a1d62e8b49e18e8b2170d5f09d4"
   }
  }
 },
 "nbformat": 4,
 "nbformat_minor": 2
}
