{
 "cells": [
  {
   "attachments": {},
   "cell_type": "markdown",
   "metadata": {},
   "source": [
    "# Using Coiled with JupyterLab\n",
    "\n",
    "Coiled integrates with the tools you already use. In this guide, you'll learn about a few useful open source JupterLab extensions we recommend:\n",
    "\n",
    "- [Conda kernels extension](https://github.com/Anaconda-Platform/nb_conda_kernels)\n",
    "- [Jupyter Widgets](https://ipywidgets.readthedocs.io/en/latest/index.html)\n",
    "- [Dask JupyterLab extension](https://github.com/dask/dask-labextension)\n",
    "\n",
    "You can download {download}`this jupyter notebook <jupyterlab.ipynb>` to follow along in your own JupyterLab session.\n",
    "\n",
    "## Before you start\n",
    "\n",
    "You'll first need install the necessary packages, For the purposes of this example, we'll do this in a new virtual environment, but you could also install them in whatever environment you're already using for your project.\n",
    "\n",
    "```bash\n",
    "$ conda create -n jupyterlab-example -c conda-forge python=3.9 jupyterlab dask-labextension coiled dask\n",
    "$ conda activate jupyterlab-example\n",
    "(jupyterlab-example) $ jupyter lab\n",
    "```\n",
    "\n",
    "You also could use pip, or any other package manager you prefer; conda isn't required.\n",
    "\n",
    "When you create a cluster, Coiled will automatically replicate your local `jupyterlab-example` environment in your cluster.\n",
    "\n",
    "## Coiled cluster widget\n",
    "\n",
    "When you create a cluster from JupyterLab or using Jupyter Notebooks, you'll notice a widget detailing the cluster state overview and progress bars as resources are provisioned. This widget relies on the `ipywidgets` extension."
   ]
  },
  {
   "cell_type": "code",
   "execution_count": null,
   "metadata": {},
   "outputs": [],
   "source": [
    "import coiled\n",
    "\n",
    "cluster = coiled.Cluster(\n",
    "    name=\"jupyter-example\", n_workers=5\n",
    ")"
   ]
  },
  {
   "cell_type": "markdown",
   "metadata": {},
   "source": [
    "![widget](../images/cluster-widget-notebook.png)"
   ]
  },
  {
   "attachments": {},
   "cell_type": "markdown",
   "metadata": {},
   "source": [
    "## Dask JupyterLab extension\n",
    "\n",
    "The Dask community maintains a [JupyterLab extension](https://github.com/dask/dask-labextension) which allows Dask dashboard plots to be embedded directly into a JupyterLab session. Viewing diagnostic plots in JupyterLab instead of in a separate browser tab or window is often a better user experience.\n",
    "\n",
    ":::{note}\n",
    "If you are using dask-labextension versions 2.x, see the installation section of the [Dask JupyterLab Extension README file](https://github.com/dask/dask-labextension/blob/707ecb1dc0e4d0ef21e9cf57442db5768235dcd1/README.md).\n",
    ":::\n",
    "\n",
    "Open the Dask JupyterLab extension by clicking the Dask logo in the JupyterLab left sidebar. Then select the magnifying glass icon in the upper right-hand corner and copy and paste the address from the `Dashboard Address` in the cluster widget to connect the extension to your cluster.\n",
    "\n",
    "![jupyterlab extension](../images/jupyterlab-extension.png)\n",
    "\n",
    "Each orange button corresponds to a different diagnostic plot. Try clicking one of the buttons and then arranging the plots. See [this screencast](https://youtu.be/EX_voquHdk0?t=51) for a live demo.\n",
    "\n",
    "Once you've arranged the plots, you can see the Dashboard at work while running a Dask computation:"
   ]
  },
  {
   "cell_type": "code",
   "execution_count": null,
   "metadata": {},
   "outputs": [],
   "source": [
    "import dask\n",
    "\n",
    "# generate random timeseries of data\n",
    "df = dask.datasets.timeseries(\"2000\", \"2005\", partition_freq=\"2w\").persist()\n",
    "\n",
    "# perform a groupby with an aggregation\n",
    "df.groupby(\"name\").aggregate({\"x\": \"sum\", \"y\": \"max\"}).compute()"
   ]
  },
  {
   "cell_type": "markdown",
   "metadata": {},
   "source": [
    "See the [Dask documentation](https://docs.dask.org/en/stable/dashboard.html) for more details on intrepreting the Dask dashboard. Once you've completed your work, you can shutdown your cluster:"
   ]
  },
  {
   "cell_type": "code",
   "execution_count": null,
   "metadata": {},
   "outputs": [],
   "source": [
    "# close the cluster\n",
    "cluster.close()\n",
    "# close the connection to the client\n",
    "client.close()"
   ]
  }
 ],
 "metadata": {
  "kernelspec": {
   "display_name": "coiled",
   "language": "python",
   "name": "python3"
  },
  "language_info": {
   "codemirror_mode": {
    "name": "ipython",
    "version": 3
   },
   "file_extension": ".py",
   "mimetype": "text/x-python",
   "name": "python",
   "nbconvert_exporter": "python",
   "pygments_lexer": "ipython3",
   "version": "3.9.16 (main, Jan 11 2023, 10:02:19) \n[Clang 14.0.6 ]"
  },
  "vscode": {
   "interpreter": {
    "hash": "e5547aa0812e25d59d1f46f9afb1c978b7dbf498b3367e6be04176897fb3c2ce"
   }
  }
 },
 "nbformat": 4,
 "nbformat_minor": 4
}
